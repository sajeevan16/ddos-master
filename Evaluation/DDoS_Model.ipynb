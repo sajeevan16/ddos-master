{
  "nbformat": 4,
  "nbformat_minor": 0,
  "metadata": {
    "colab": {
      "name": "DDoS Model",
      "provenance": []
    },
    "kernelspec": {
      "display_name": "Python 3",
      "name": "python3"
    }
  },
  "cells": [
    {
      "cell_type": "code",
      "metadata": {
        "colab": {
          "base_uri": "https://localhost:8080/"
        },
        "id": "dBmTvOB5KAVJ",
        "outputId": "f850cb45-d2c8-4c5d-95d0-e1466e0133a5"
      },
      "source": [
        "from google.colab import drive\r\n",
        "drive.mount('/content/drive')"
      ],
      "execution_count": 1,
      "outputs": [
        {
          "output_type": "stream",
          "text": [
            "Mounted at /content/drive\n"
          ],
          "name": "stdout"
        }
      ]
    },
    {
      "cell_type": "code",
      "metadata": {
        "id": "0dbIKSeTK0y_"
      },
      "source": [
        "import numpy as np\r\n",
        "import pandas as pd\r\n",
        "import matplotlib.pyplot as plt\r\n",
        "\r\n",
        "import seaborn as sns; sns.set()"
      ],
      "execution_count": 2,
      "outputs": []
    },
    {
      "cell_type": "code",
      "metadata": {
        "id": "fj5lGBZhLKDc"
      },
      "source": [
        "from keras.models import Sequential, load_model\r\n",
        "from keras.layers import Dense, LSTM, Bidirectional\r\n",
        "from keras.utils import plot_model\r\n",
        "from keras.utils.np_utils import to_categorical\r\n",
        "from keras.utils import np_utils\r\n",
        "\r\n",
        "from sklearn.model_selection import train_test_split\r\n",
        "from sklearn.preprocessing import LabelEncoder, StandardScaler\r\n",
        "from sklearn.metrics import confusion_matrix"
      ],
      "execution_count": 3,
      "outputs": []
    },
    {
      "cell_type": "code",
      "metadata": {
        "id": "U-RGxBb-Nsw3"
      },
      "source": [
        "data_attack = pd.read_csv('/content/drive/MyDrive/Dataset/attack.csv', nrows = 50000)"
      ],
      "execution_count": 4,
      "outputs": []
    },
    {
      "cell_type": "code",
      "metadata": {
        "id": "Fvdow9mNPopb"
      },
      "source": [
        "data_normal = pd.read_csv('/content/drive/MyDrive/Dataset/normal.csv', nrows = 50000)"
      ],
      "execution_count": 5,
      "outputs": []
    },
    {
      "cell_type": "code",
      "metadata": {
        "colab": {
          "base_uri": "https://localhost:8080/"
        },
        "id": "HbqJPdZlGvYI",
        "outputId": "184b5b53-5035-4386-eecb-0026ea40961e"
      },
      "source": [
        "data_normal.columns"
      ],
      "execution_count": 6,
      "outputs": [
        {
          "output_type": "execute_result",
          "data": {
            "text/plain": [
              "Index(['frame.encap_type', 'frame.len', 'frame.protocols', 'ip.hdr_len',\n",
              "       'ip.len', 'ip.flags.rb', 'ip.flags.df', 'p.flags.mf', 'ip.frag_offset',\n",
              "       'ip.ttl', 'ip.proto', 'ip.src', 'ip.dst', 'tcp.srcport', 'tcp.dstport',\n",
              "       'tcp.len', 'tcp.ack', 'tcp.flags.res', 'tcp.flags.ns', 'tcp.flags.cwr',\n",
              "       'tcp.flags.ecn', 'tcp.flags.urg', 'tcp.flags.ack', 'tcp.flags.push',\n",
              "       'tcp.flags.reset', 'tcp.flags.syn', 'tcp.flags.fin', 'tcp.window_size',\n",
              "       'tcp.time_delta'],\n",
              "      dtype='object')"
            ]
          },
          "metadata": {
            "tags": []
          },
          "execution_count": 6
        }
      ]
    },
    {
      "cell_type": "code",
      "metadata": {
        "colab": {
          "base_uri": "https://localhost:8080/",
          "height": 363
        },
        "id": "OcWlIES9HByO",
        "outputId": "df6e6eb3-b4c9-4214-a264-4ce65e20f262"
      },
      "source": [
        "data_normal[0:10]"
      ],
      "execution_count": 7,
      "outputs": [
        {
          "output_type": "execute_result",
          "data": {
            "text/html": [
              "<div>\n",
              "<style scoped>\n",
              "    .dataframe tbody tr th:only-of-type {\n",
              "        vertical-align: middle;\n",
              "    }\n",
              "\n",
              "    .dataframe tbody tr th {\n",
              "        vertical-align: top;\n",
              "    }\n",
              "\n",
              "    .dataframe thead th {\n",
              "        text-align: right;\n",
              "    }\n",
              "</style>\n",
              "<table border=\"1\" class=\"dataframe\">\n",
              "  <thead>\n",
              "    <tr style=\"text-align: right;\">\n",
              "      <th></th>\n",
              "      <th>frame.encap_type</th>\n",
              "      <th>frame.len</th>\n",
              "      <th>frame.protocols</th>\n",
              "      <th>ip.hdr_len</th>\n",
              "      <th>ip.len</th>\n",
              "      <th>ip.flags.rb</th>\n",
              "      <th>ip.flags.df</th>\n",
              "      <th>p.flags.mf</th>\n",
              "      <th>ip.frag_offset</th>\n",
              "      <th>ip.ttl</th>\n",
              "      <th>ip.proto</th>\n",
              "      <th>ip.src</th>\n",
              "      <th>ip.dst</th>\n",
              "      <th>tcp.srcport</th>\n",
              "      <th>tcp.dstport</th>\n",
              "      <th>tcp.len</th>\n",
              "      <th>tcp.ack</th>\n",
              "      <th>tcp.flags.res</th>\n",
              "      <th>tcp.flags.ns</th>\n",
              "      <th>tcp.flags.cwr</th>\n",
              "      <th>tcp.flags.ecn</th>\n",
              "      <th>tcp.flags.urg</th>\n",
              "      <th>tcp.flags.ack</th>\n",
              "      <th>tcp.flags.push</th>\n",
              "      <th>tcp.flags.reset</th>\n",
              "      <th>tcp.flags.syn</th>\n",
              "      <th>tcp.flags.fin</th>\n",
              "      <th>tcp.window_size</th>\n",
              "      <th>tcp.time_delta</th>\n",
              "    </tr>\n",
              "  </thead>\n",
              "  <tbody>\n",
              "    <tr>\n",
              "      <th>1</th>\n",
              "      <td>206</td>\n",
              "      <td>eth:ethertype:ip:tcp:ssh</td>\n",
              "      <td>20</td>\n",
              "      <td>192</td>\n",
              "      <td>0</td>\n",
              "      <td>1</td>\n",
              "      <td>0</td>\n",
              "      <td>0</td>\n",
              "      <td>128</td>\n",
              "      <td>6</td>\n",
              "      <td>192.168.1.101</td>\n",
              "      <td>192.168.5.122</td>\n",
              "      <td>4175</td>\n",
              "      <td>22</td>\n",
              "      <td>152</td>\n",
              "      <td>1</td>\n",
              "      <td>0</td>\n",
              "      <td>0</td>\n",
              "      <td>0</td>\n",
              "      <td>0</td>\n",
              "      <td>0</td>\n",
              "      <td>1</td>\n",
              "      <td>1</td>\n",
              "      <td>0</td>\n",
              "      <td>0</td>\n",
              "      <td>0</td>\n",
              "      <td>16697</td>\n",
              "      <td>0.000000</td>\n",
              "      <td>normal</td>\n",
              "    </tr>\n",
              "    <tr>\n",
              "      <th>1</th>\n",
              "      <td>60</td>\n",
              "      <td>eth:ethertype:ip:tcp</td>\n",
              "      <td>20</td>\n",
              "      <td>40</td>\n",
              "      <td>0</td>\n",
              "      <td>1</td>\n",
              "      <td>0</td>\n",
              "      <td>0</td>\n",
              "      <td>64</td>\n",
              "      <td>6</td>\n",
              "      <td>192.168.5.122</td>\n",
              "      <td>192.168.1.101</td>\n",
              "      <td>22</td>\n",
              "      <td>4175</td>\n",
              "      <td>0</td>\n",
              "      <td>153</td>\n",
              "      <td>0</td>\n",
              "      <td>0</td>\n",
              "      <td>0</td>\n",
              "      <td>0</td>\n",
              "      <td>0</td>\n",
              "      <td>1</td>\n",
              "      <td>0</td>\n",
              "      <td>0</td>\n",
              "      <td>0</td>\n",
              "      <td>0</td>\n",
              "      <td>7504</td>\n",
              "      <td>0.000537</td>\n",
              "      <td>normal</td>\n",
              "    </tr>\n",
              "    <tr>\n",
              "      <th>1</th>\n",
              "      <td>60</td>\n",
              "      <td>eth:ethertype:ip:tcp</td>\n",
              "      <td>20</td>\n",
              "      <td>40</td>\n",
              "      <td>0</td>\n",
              "      <td>1</td>\n",
              "      <td>0</td>\n",
              "      <td>0</td>\n",
              "      <td>63</td>\n",
              "      <td>6</td>\n",
              "      <td>192.168.5.122</td>\n",
              "      <td>192.168.1.101</td>\n",
              "      <td>22</td>\n",
              "      <td>4175</td>\n",
              "      <td>0</td>\n",
              "      <td>153</td>\n",
              "      <td>0</td>\n",
              "      <td>0</td>\n",
              "      <td>0</td>\n",
              "      <td>0</td>\n",
              "      <td>0</td>\n",
              "      <td>1</td>\n",
              "      <td>0</td>\n",
              "      <td>0</td>\n",
              "      <td>0</td>\n",
              "      <td>0</td>\n",
              "      <td>7504</td>\n",
              "      <td>0.000155</td>\n",
              "      <td>normal</td>\n",
              "    </tr>\n",
              "    <tr>\n",
              "      <th>1</th>\n",
              "      <td>774</td>\n",
              "      <td>eth:ethertype:ip:tcp:ssh</td>\n",
              "      <td>20</td>\n",
              "      <td>760</td>\n",
              "      <td>0</td>\n",
              "      <td>1</td>\n",
              "      <td>0</td>\n",
              "      <td>0</td>\n",
              "      <td>64</td>\n",
              "      <td>6</td>\n",
              "      <td>192.168.5.122</td>\n",
              "      <td>192.168.1.101</td>\n",
              "      <td>22</td>\n",
              "      <td>4175</td>\n",
              "      <td>720</td>\n",
              "      <td>153</td>\n",
              "      <td>0</td>\n",
              "      <td>0</td>\n",
              "      <td>0</td>\n",
              "      <td>0</td>\n",
              "      <td>0</td>\n",
              "      <td>1</td>\n",
              "      <td>1</td>\n",
              "      <td>0</td>\n",
              "      <td>0</td>\n",
              "      <td>0</td>\n",
              "      <td>7504</td>\n",
              "      <td>0.004483</td>\n",
              "      <td>normal</td>\n",
              "    </tr>\n",
              "    <tr>\n",
              "      <th>1</th>\n",
              "      <td>774</td>\n",
              "      <td>eth:ethertype:ip:tcp</td>\n",
              "      <td>20</td>\n",
              "      <td>760</td>\n",
              "      <td>0</td>\n",
              "      <td>1</td>\n",
              "      <td>0</td>\n",
              "      <td>0</td>\n",
              "      <td>63</td>\n",
              "      <td>6</td>\n",
              "      <td>192.168.5.122</td>\n",
              "      <td>192.168.1.101</td>\n",
              "      <td>22</td>\n",
              "      <td>4175</td>\n",
              "      <td>720</td>\n",
              "      <td>153</td>\n",
              "      <td>0</td>\n",
              "      <td>0</td>\n",
              "      <td>0</td>\n",
              "      <td>0</td>\n",
              "      <td>0</td>\n",
              "      <td>1</td>\n",
              "      <td>1</td>\n",
              "      <td>0</td>\n",
              "      <td>0</td>\n",
              "      <td>0</td>\n",
              "      <td>7504</td>\n",
              "      <td>0.001321</td>\n",
              "      <td>normal</td>\n",
              "    </tr>\n",
              "    <tr>\n",
              "      <th>1</th>\n",
              "      <td>1434</td>\n",
              "      <td>eth:ethertype:ip:tcp</td>\n",
              "      <td>20</td>\n",
              "      <td>1420</td>\n",
              "      <td>0</td>\n",
              "      <td>1</td>\n",
              "      <td>0</td>\n",
              "      <td>0</td>\n",
              "      <td>241</td>\n",
              "      <td>6</td>\n",
              "      <td>12.180.55.140</td>\n",
              "      <td>192.168.3.115</td>\n",
              "      <td>80</td>\n",
              "      <td>3816</td>\n",
              "      <td>1380</td>\n",
              "      <td>1</td>\n",
              "      <td>0</td>\n",
              "      <td>0</td>\n",
              "      <td>0</td>\n",
              "      <td>0</td>\n",
              "      <td>0</td>\n",
              "      <td>1</td>\n",
              "      <td>0</td>\n",
              "      <td>0</td>\n",
              "      <td>0</td>\n",
              "      <td>0</td>\n",
              "      <td>5189</td>\n",
              "      <td>0.000000</td>\n",
              "      <td>normal</td>\n",
              "    </tr>\n",
              "    <tr>\n",
              "      <th>1</th>\n",
              "      <td>66</td>\n",
              "      <td>eth:ethertype:ip:tcp</td>\n",
              "      <td>20</td>\n",
              "      <td>52</td>\n",
              "      <td>0</td>\n",
              "      <td>1</td>\n",
              "      <td>0</td>\n",
              "      <td>0</td>\n",
              "      <td>128</td>\n",
              "      <td>6</td>\n",
              "      <td>192.168.4.121</td>\n",
              "      <td>192.168.5.122</td>\n",
              "      <td>51061</td>\n",
              "      <td>22</td>\n",
              "      <td>0</td>\n",
              "      <td>0</td>\n",
              "      <td>0</td>\n",
              "      <td>0</td>\n",
              "      <td>0</td>\n",
              "      <td>0</td>\n",
              "      <td>0</td>\n",
              "      <td>0</td>\n",
              "      <td>0</td>\n",
              "      <td>0</td>\n",
              "      <td>1</td>\n",
              "      <td>0</td>\n",
              "      <td>8192</td>\n",
              "      <td>0.000000</td>\n",
              "      <td>normal</td>\n",
              "    </tr>\n",
              "    <tr>\n",
              "      <th>1</th>\n",
              "      <td>66</td>\n",
              "      <td>eth:ethertype:ip:tcp</td>\n",
              "      <td>20</td>\n",
              "      <td>52</td>\n",
              "      <td>0</td>\n",
              "      <td>1</td>\n",
              "      <td>0</td>\n",
              "      <td>0</td>\n",
              "      <td>64</td>\n",
              "      <td>6</td>\n",
              "      <td>192.168.5.122</td>\n",
              "      <td>192.168.4.121</td>\n",
              "      <td>22</td>\n",
              "      <td>51061</td>\n",
              "      <td>0</td>\n",
              "      <td>1</td>\n",
              "      <td>0</td>\n",
              "      <td>0</td>\n",
              "      <td>0</td>\n",
              "      <td>0</td>\n",
              "      <td>0</td>\n",
              "      <td>1</td>\n",
              "      <td>0</td>\n",
              "      <td>0</td>\n",
              "      <td>1</td>\n",
              "      <td>0</td>\n",
              "      <td>5840</td>\n",
              "      <td>0.000241</td>\n",
              "      <td>normal</td>\n",
              "    </tr>\n",
              "    <tr>\n",
              "      <th>1</th>\n",
              "      <td>66</td>\n",
              "      <td>eth:ethertype:ip:tcp</td>\n",
              "      <td>20</td>\n",
              "      <td>52</td>\n",
              "      <td>0</td>\n",
              "      <td>1</td>\n",
              "      <td>0</td>\n",
              "      <td>0</td>\n",
              "      <td>63</td>\n",
              "      <td>6</td>\n",
              "      <td>192.168.5.122</td>\n",
              "      <td>192.168.4.121</td>\n",
              "      <td>22</td>\n",
              "      <td>51061</td>\n",
              "      <td>0</td>\n",
              "      <td>1</td>\n",
              "      <td>0</td>\n",
              "      <td>0</td>\n",
              "      <td>0</td>\n",
              "      <td>0</td>\n",
              "      <td>0</td>\n",
              "      <td>1</td>\n",
              "      <td>0</td>\n",
              "      <td>0</td>\n",
              "      <td>1</td>\n",
              "      <td>0</td>\n",
              "      <td>5840</td>\n",
              "      <td>0.000132</td>\n",
              "      <td>normal</td>\n",
              "    </tr>\n",
              "    <tr>\n",
              "      <th>1</th>\n",
              "      <td>60</td>\n",
              "      <td>eth:ethertype:ip:tcp</td>\n",
              "      <td>20</td>\n",
              "      <td>40</td>\n",
              "      <td>0</td>\n",
              "      <td>1</td>\n",
              "      <td>0</td>\n",
              "      <td>0</td>\n",
              "      <td>128</td>\n",
              "      <td>6</td>\n",
              "      <td>192.168.4.121</td>\n",
              "      <td>192.168.5.122</td>\n",
              "      <td>51061</td>\n",
              "      <td>22</td>\n",
              "      <td>0</td>\n",
              "      <td>1</td>\n",
              "      <td>0</td>\n",
              "      <td>0</td>\n",
              "      <td>0</td>\n",
              "      <td>0</td>\n",
              "      <td>0</td>\n",
              "      <td>1</td>\n",
              "      <td>0</td>\n",
              "      <td>0</td>\n",
              "      <td>0</td>\n",
              "      <td>0</td>\n",
              "      <td>17520</td>\n",
              "      <td>0.000245</td>\n",
              "      <td>normal</td>\n",
              "    </tr>\n",
              "  </tbody>\n",
              "</table>\n",
              "</div>"
            ],
            "text/plain": [
              "   frame.encap_type                 frame.len  ...  tcp.window_size  tcp.time_delta\n",
              "1               206  eth:ethertype:ip:tcp:ssh  ...         0.000000          normal\n",
              "1                60      eth:ethertype:ip:tcp  ...         0.000537          normal\n",
              "1                60      eth:ethertype:ip:tcp  ...         0.000155          normal\n",
              "1               774  eth:ethertype:ip:tcp:ssh  ...         0.004483          normal\n",
              "1               774      eth:ethertype:ip:tcp  ...         0.001321          normal\n",
              "1              1434      eth:ethertype:ip:tcp  ...         0.000000          normal\n",
              "1                66      eth:ethertype:ip:tcp  ...         0.000000          normal\n",
              "1                66      eth:ethertype:ip:tcp  ...         0.000241          normal\n",
              "1                66      eth:ethertype:ip:tcp  ...         0.000132          normal\n",
              "1                60      eth:ethertype:ip:tcp  ...         0.000245          normal\n",
              "\n",
              "[10 rows x 29 columns]"
            ]
          },
          "metadata": {
            "tags": []
          },
          "execution_count": 7
        }
      ]
    },
    {
      "cell_type": "code",
      "metadata": {
        "id": "8HZjZ2tBPw5J"
      },
      "source": [
        "data_normal.columns=[ 'frame.len', 'frame.protocols', 'ip.hdr_len',\r\n",
        "       'ip.len', 'ip.flags.rb', 'ip.flags.df', 'p.flags.mf', 'ip.frag_offset',\r\n",
        "       'ip.ttl', 'ip.proto', 'ip.src', 'ip.dst', 'tcp.srcport', 'tcp.dstport',\r\n",
        "       'tcp.len', 'tcp.ack', 'tcp.flags.res', 'tcp.flags.ns', 'tcp.flags.cwr',\r\n",
        "       'tcp.flags.ecn', 'tcp.flags.urg', 'tcp.flags.ack', 'tcp.flags.push',\r\n",
        "       'tcp.flags.reset', 'tcp.flags.syn', 'tcp.flags.fin', 'tcp.window_size',\r\n",
        "       'tcp.time_delta','class']\r\n",
        "data_attack.columns=[ 'frame.len', 'frame.protocols', 'ip.hdr_len',\r\n",
        "       'ip.len', 'ip.flags.rb', 'ip.flags.df', 'p.flags.mf', 'ip.frag_offset',\r\n",
        "       'ip.ttl', 'ip.proto', 'ip.src', 'ip.dst', 'tcp.srcport', 'tcp.dstport',\r\n",
        "       'tcp.len', 'tcp.ack', 'tcp.flags.res', 'tcp.flags.ns', 'tcp.flags.cwr',\r\n",
        "       'tcp.flags.ecn', 'tcp.flags.urg', 'tcp.flags.ack', 'tcp.flags.push',\r\n",
        "       'tcp.flags.reset', 'tcp.flags.syn', 'tcp.flags.fin', 'tcp.window_size',\r\n",
        "       'tcp.time_delta','class']"
      ],
      "execution_count": 8,
      "outputs": []
    },
    {
      "cell_type": "code",
      "metadata": {
        "colab": {
          "base_uri": "https://localhost:8080/",
          "height": 363
        },
        "id": "An6Nb2W-Iddt",
        "outputId": "66ed0c96-cabf-4ee6-be7f-733097220dd2"
      },
      "source": [
        "data_normal[0:10]"
      ],
      "execution_count": 9,
      "outputs": [
        {
          "output_type": "execute_result",
          "data": {
            "text/html": [
              "<div>\n",
              "<style scoped>\n",
              "    .dataframe tbody tr th:only-of-type {\n",
              "        vertical-align: middle;\n",
              "    }\n",
              "\n",
              "    .dataframe tbody tr th {\n",
              "        vertical-align: top;\n",
              "    }\n",
              "\n",
              "    .dataframe thead th {\n",
              "        text-align: right;\n",
              "    }\n",
              "</style>\n",
              "<table border=\"1\" class=\"dataframe\">\n",
              "  <thead>\n",
              "    <tr style=\"text-align: right;\">\n",
              "      <th></th>\n",
              "      <th>frame.len</th>\n",
              "      <th>frame.protocols</th>\n",
              "      <th>ip.hdr_len</th>\n",
              "      <th>ip.len</th>\n",
              "      <th>ip.flags.rb</th>\n",
              "      <th>ip.flags.df</th>\n",
              "      <th>p.flags.mf</th>\n",
              "      <th>ip.frag_offset</th>\n",
              "      <th>ip.ttl</th>\n",
              "      <th>ip.proto</th>\n",
              "      <th>ip.src</th>\n",
              "      <th>ip.dst</th>\n",
              "      <th>tcp.srcport</th>\n",
              "      <th>tcp.dstport</th>\n",
              "      <th>tcp.len</th>\n",
              "      <th>tcp.ack</th>\n",
              "      <th>tcp.flags.res</th>\n",
              "      <th>tcp.flags.ns</th>\n",
              "      <th>tcp.flags.cwr</th>\n",
              "      <th>tcp.flags.ecn</th>\n",
              "      <th>tcp.flags.urg</th>\n",
              "      <th>tcp.flags.ack</th>\n",
              "      <th>tcp.flags.push</th>\n",
              "      <th>tcp.flags.reset</th>\n",
              "      <th>tcp.flags.syn</th>\n",
              "      <th>tcp.flags.fin</th>\n",
              "      <th>tcp.window_size</th>\n",
              "      <th>tcp.time_delta</th>\n",
              "      <th>class</th>\n",
              "    </tr>\n",
              "  </thead>\n",
              "  <tbody>\n",
              "    <tr>\n",
              "      <th>1</th>\n",
              "      <td>206</td>\n",
              "      <td>eth:ethertype:ip:tcp:ssh</td>\n",
              "      <td>20</td>\n",
              "      <td>192</td>\n",
              "      <td>0</td>\n",
              "      <td>1</td>\n",
              "      <td>0</td>\n",
              "      <td>0</td>\n",
              "      <td>128</td>\n",
              "      <td>6</td>\n",
              "      <td>192.168.1.101</td>\n",
              "      <td>192.168.5.122</td>\n",
              "      <td>4175</td>\n",
              "      <td>22</td>\n",
              "      <td>152</td>\n",
              "      <td>1</td>\n",
              "      <td>0</td>\n",
              "      <td>0</td>\n",
              "      <td>0</td>\n",
              "      <td>0</td>\n",
              "      <td>0</td>\n",
              "      <td>1</td>\n",
              "      <td>1</td>\n",
              "      <td>0</td>\n",
              "      <td>0</td>\n",
              "      <td>0</td>\n",
              "      <td>16697</td>\n",
              "      <td>0.000000</td>\n",
              "      <td>normal</td>\n",
              "    </tr>\n",
              "    <tr>\n",
              "      <th>1</th>\n",
              "      <td>60</td>\n",
              "      <td>eth:ethertype:ip:tcp</td>\n",
              "      <td>20</td>\n",
              "      <td>40</td>\n",
              "      <td>0</td>\n",
              "      <td>1</td>\n",
              "      <td>0</td>\n",
              "      <td>0</td>\n",
              "      <td>64</td>\n",
              "      <td>6</td>\n",
              "      <td>192.168.5.122</td>\n",
              "      <td>192.168.1.101</td>\n",
              "      <td>22</td>\n",
              "      <td>4175</td>\n",
              "      <td>0</td>\n",
              "      <td>153</td>\n",
              "      <td>0</td>\n",
              "      <td>0</td>\n",
              "      <td>0</td>\n",
              "      <td>0</td>\n",
              "      <td>0</td>\n",
              "      <td>1</td>\n",
              "      <td>0</td>\n",
              "      <td>0</td>\n",
              "      <td>0</td>\n",
              "      <td>0</td>\n",
              "      <td>7504</td>\n",
              "      <td>0.000537</td>\n",
              "      <td>normal</td>\n",
              "    </tr>\n",
              "    <tr>\n",
              "      <th>1</th>\n",
              "      <td>60</td>\n",
              "      <td>eth:ethertype:ip:tcp</td>\n",
              "      <td>20</td>\n",
              "      <td>40</td>\n",
              "      <td>0</td>\n",
              "      <td>1</td>\n",
              "      <td>0</td>\n",
              "      <td>0</td>\n",
              "      <td>63</td>\n",
              "      <td>6</td>\n",
              "      <td>192.168.5.122</td>\n",
              "      <td>192.168.1.101</td>\n",
              "      <td>22</td>\n",
              "      <td>4175</td>\n",
              "      <td>0</td>\n",
              "      <td>153</td>\n",
              "      <td>0</td>\n",
              "      <td>0</td>\n",
              "      <td>0</td>\n",
              "      <td>0</td>\n",
              "      <td>0</td>\n",
              "      <td>1</td>\n",
              "      <td>0</td>\n",
              "      <td>0</td>\n",
              "      <td>0</td>\n",
              "      <td>0</td>\n",
              "      <td>7504</td>\n",
              "      <td>0.000155</td>\n",
              "      <td>normal</td>\n",
              "    </tr>\n",
              "    <tr>\n",
              "      <th>1</th>\n",
              "      <td>774</td>\n",
              "      <td>eth:ethertype:ip:tcp:ssh</td>\n",
              "      <td>20</td>\n",
              "      <td>760</td>\n",
              "      <td>0</td>\n",
              "      <td>1</td>\n",
              "      <td>0</td>\n",
              "      <td>0</td>\n",
              "      <td>64</td>\n",
              "      <td>6</td>\n",
              "      <td>192.168.5.122</td>\n",
              "      <td>192.168.1.101</td>\n",
              "      <td>22</td>\n",
              "      <td>4175</td>\n",
              "      <td>720</td>\n",
              "      <td>153</td>\n",
              "      <td>0</td>\n",
              "      <td>0</td>\n",
              "      <td>0</td>\n",
              "      <td>0</td>\n",
              "      <td>0</td>\n",
              "      <td>1</td>\n",
              "      <td>1</td>\n",
              "      <td>0</td>\n",
              "      <td>0</td>\n",
              "      <td>0</td>\n",
              "      <td>7504</td>\n",
              "      <td>0.004483</td>\n",
              "      <td>normal</td>\n",
              "    </tr>\n",
              "    <tr>\n",
              "      <th>1</th>\n",
              "      <td>774</td>\n",
              "      <td>eth:ethertype:ip:tcp</td>\n",
              "      <td>20</td>\n",
              "      <td>760</td>\n",
              "      <td>0</td>\n",
              "      <td>1</td>\n",
              "      <td>0</td>\n",
              "      <td>0</td>\n",
              "      <td>63</td>\n",
              "      <td>6</td>\n",
              "      <td>192.168.5.122</td>\n",
              "      <td>192.168.1.101</td>\n",
              "      <td>22</td>\n",
              "      <td>4175</td>\n",
              "      <td>720</td>\n",
              "      <td>153</td>\n",
              "      <td>0</td>\n",
              "      <td>0</td>\n",
              "      <td>0</td>\n",
              "      <td>0</td>\n",
              "      <td>0</td>\n",
              "      <td>1</td>\n",
              "      <td>1</td>\n",
              "      <td>0</td>\n",
              "      <td>0</td>\n",
              "      <td>0</td>\n",
              "      <td>7504</td>\n",
              "      <td>0.001321</td>\n",
              "      <td>normal</td>\n",
              "    </tr>\n",
              "    <tr>\n",
              "      <th>1</th>\n",
              "      <td>1434</td>\n",
              "      <td>eth:ethertype:ip:tcp</td>\n",
              "      <td>20</td>\n",
              "      <td>1420</td>\n",
              "      <td>0</td>\n",
              "      <td>1</td>\n",
              "      <td>0</td>\n",
              "      <td>0</td>\n",
              "      <td>241</td>\n",
              "      <td>6</td>\n",
              "      <td>12.180.55.140</td>\n",
              "      <td>192.168.3.115</td>\n",
              "      <td>80</td>\n",
              "      <td>3816</td>\n",
              "      <td>1380</td>\n",
              "      <td>1</td>\n",
              "      <td>0</td>\n",
              "      <td>0</td>\n",
              "      <td>0</td>\n",
              "      <td>0</td>\n",
              "      <td>0</td>\n",
              "      <td>1</td>\n",
              "      <td>0</td>\n",
              "      <td>0</td>\n",
              "      <td>0</td>\n",
              "      <td>0</td>\n",
              "      <td>5189</td>\n",
              "      <td>0.000000</td>\n",
              "      <td>normal</td>\n",
              "    </tr>\n",
              "    <tr>\n",
              "      <th>1</th>\n",
              "      <td>66</td>\n",
              "      <td>eth:ethertype:ip:tcp</td>\n",
              "      <td>20</td>\n",
              "      <td>52</td>\n",
              "      <td>0</td>\n",
              "      <td>1</td>\n",
              "      <td>0</td>\n",
              "      <td>0</td>\n",
              "      <td>128</td>\n",
              "      <td>6</td>\n",
              "      <td>192.168.4.121</td>\n",
              "      <td>192.168.5.122</td>\n",
              "      <td>51061</td>\n",
              "      <td>22</td>\n",
              "      <td>0</td>\n",
              "      <td>0</td>\n",
              "      <td>0</td>\n",
              "      <td>0</td>\n",
              "      <td>0</td>\n",
              "      <td>0</td>\n",
              "      <td>0</td>\n",
              "      <td>0</td>\n",
              "      <td>0</td>\n",
              "      <td>0</td>\n",
              "      <td>1</td>\n",
              "      <td>0</td>\n",
              "      <td>8192</td>\n",
              "      <td>0.000000</td>\n",
              "      <td>normal</td>\n",
              "    </tr>\n",
              "    <tr>\n",
              "      <th>1</th>\n",
              "      <td>66</td>\n",
              "      <td>eth:ethertype:ip:tcp</td>\n",
              "      <td>20</td>\n",
              "      <td>52</td>\n",
              "      <td>0</td>\n",
              "      <td>1</td>\n",
              "      <td>0</td>\n",
              "      <td>0</td>\n",
              "      <td>64</td>\n",
              "      <td>6</td>\n",
              "      <td>192.168.5.122</td>\n",
              "      <td>192.168.4.121</td>\n",
              "      <td>22</td>\n",
              "      <td>51061</td>\n",
              "      <td>0</td>\n",
              "      <td>1</td>\n",
              "      <td>0</td>\n",
              "      <td>0</td>\n",
              "      <td>0</td>\n",
              "      <td>0</td>\n",
              "      <td>0</td>\n",
              "      <td>1</td>\n",
              "      <td>0</td>\n",
              "      <td>0</td>\n",
              "      <td>1</td>\n",
              "      <td>0</td>\n",
              "      <td>5840</td>\n",
              "      <td>0.000241</td>\n",
              "      <td>normal</td>\n",
              "    </tr>\n",
              "    <tr>\n",
              "      <th>1</th>\n",
              "      <td>66</td>\n",
              "      <td>eth:ethertype:ip:tcp</td>\n",
              "      <td>20</td>\n",
              "      <td>52</td>\n",
              "      <td>0</td>\n",
              "      <td>1</td>\n",
              "      <td>0</td>\n",
              "      <td>0</td>\n",
              "      <td>63</td>\n",
              "      <td>6</td>\n",
              "      <td>192.168.5.122</td>\n",
              "      <td>192.168.4.121</td>\n",
              "      <td>22</td>\n",
              "      <td>51061</td>\n",
              "      <td>0</td>\n",
              "      <td>1</td>\n",
              "      <td>0</td>\n",
              "      <td>0</td>\n",
              "      <td>0</td>\n",
              "      <td>0</td>\n",
              "      <td>0</td>\n",
              "      <td>1</td>\n",
              "      <td>0</td>\n",
              "      <td>0</td>\n",
              "      <td>1</td>\n",
              "      <td>0</td>\n",
              "      <td>5840</td>\n",
              "      <td>0.000132</td>\n",
              "      <td>normal</td>\n",
              "    </tr>\n",
              "    <tr>\n",
              "      <th>1</th>\n",
              "      <td>60</td>\n",
              "      <td>eth:ethertype:ip:tcp</td>\n",
              "      <td>20</td>\n",
              "      <td>40</td>\n",
              "      <td>0</td>\n",
              "      <td>1</td>\n",
              "      <td>0</td>\n",
              "      <td>0</td>\n",
              "      <td>128</td>\n",
              "      <td>6</td>\n",
              "      <td>192.168.4.121</td>\n",
              "      <td>192.168.5.122</td>\n",
              "      <td>51061</td>\n",
              "      <td>22</td>\n",
              "      <td>0</td>\n",
              "      <td>1</td>\n",
              "      <td>0</td>\n",
              "      <td>0</td>\n",
              "      <td>0</td>\n",
              "      <td>0</td>\n",
              "      <td>0</td>\n",
              "      <td>1</td>\n",
              "      <td>0</td>\n",
              "      <td>0</td>\n",
              "      <td>0</td>\n",
              "      <td>0</td>\n",
              "      <td>17520</td>\n",
              "      <td>0.000245</td>\n",
              "      <td>normal</td>\n",
              "    </tr>\n",
              "  </tbody>\n",
              "</table>\n",
              "</div>"
            ],
            "text/plain": [
              "   frame.len           frame.protocols  ...  tcp.time_delta   class\n",
              "1        206  eth:ethertype:ip:tcp:ssh  ...        0.000000  normal\n",
              "1         60      eth:ethertype:ip:tcp  ...        0.000537  normal\n",
              "1         60      eth:ethertype:ip:tcp  ...        0.000155  normal\n",
              "1        774  eth:ethertype:ip:tcp:ssh  ...        0.004483  normal\n",
              "1        774      eth:ethertype:ip:tcp  ...        0.001321  normal\n",
              "1       1434      eth:ethertype:ip:tcp  ...        0.000000  normal\n",
              "1         66      eth:ethertype:ip:tcp  ...        0.000000  normal\n",
              "1         66      eth:ethertype:ip:tcp  ...        0.000241  normal\n",
              "1         66      eth:ethertype:ip:tcp  ...        0.000132  normal\n",
              "1         60      eth:ethertype:ip:tcp  ...        0.000245  normal\n",
              "\n",
              "[10 rows x 29 columns]"
            ]
          },
          "metadata": {
            "tags": []
          },
          "execution_count": 9
        }
      ]
    },
    {
      "cell_type": "code",
      "metadata": {
        "id": "q54gNwSkP4tv"
      },
      "source": [
        "data_normal=data_normal.drop(['ip.src', 'ip.dst','frame.protocols'],axis=1)\r\n",
        "data_attack=data_attack.drop(['ip.src', 'ip.dst','frame.protocols'],axis=1)"
      ],
      "execution_count": 10,
      "outputs": []
    },
    {
      "cell_type": "code",
      "metadata": {
        "id": "LNaeaIzYUfWX"
      },
      "source": [
        "features=[ 'frame.len', 'ip.hdr_len',\r\n",
        "       'ip.len', 'ip.flags.rb', 'ip.flags.df', 'p.flags.mf', 'ip.frag_offset',\r\n",
        "       'ip.ttl', 'ip.proto', 'tcp.srcport', 'tcp.dstport',\r\n",
        "       'tcp.len', 'tcp.ack', 'tcp.flags.res', 'tcp.flags.ns', 'tcp.flags.cwr',\r\n",
        "       'tcp.flags.ecn', 'tcp.flags.urg', 'tcp.flags.ack', 'tcp.flags.push',\r\n",
        "       'tcp.flags.reset', 'tcp.flags.syn', 'tcp.flags.fin', 'tcp.window_size',\r\n",
        "       'tcp.time_delta']"
      ],
      "execution_count": 11,
      "outputs": []
    },
    {
      "cell_type": "code",
      "metadata": {
        "id": "lDLTkW5uU1tp"
      },
      "source": [
        "X_normal= data_normal[features].values\r\n",
        "X_attack= data_attack[features].values\r\n",
        "Y_normal= data_normal['class']\r\n",
        "Y_attack= data_attack['class']\r\n",
        "X=np.concatenate((X_normal,X_attack))\r\n",
        "Y=np.concatenate((Y_normal,Y_attack))"
      ],
      "execution_count": 12,
      "outputs": []
    },
    {
      "cell_type": "code",
      "metadata": {
        "id": "wlAySiy1VHUy"
      },
      "source": [
        "scalar = StandardScaler(copy=True, with_mean=True, with_std=True)\r\n",
        "scalar.fit(X)\r\n",
        "X = scalar.transform(X)"
      ],
      "execution_count": 13,
      "outputs": []
    },
    {
      "cell_type": "code",
      "metadata": {
        "colab": {
          "base_uri": "https://localhost:8080/"
        },
        "id": "g9sevdQiDOfK",
        "outputId": "fe59c3c0-40d0-4f3e-f275-c8391403340c"
      },
      "source": [
        "Y[0:10]"
      ],
      "execution_count": 14,
      "outputs": [
        {
          "output_type": "execute_result",
          "data": {
            "text/plain": [
              "array(['normal', 'normal', 'normal', 'normal', 'normal', 'normal',\n",
              "       'normal', 'normal', 'normal', 'normal'], dtype=object)"
            ]
          },
          "metadata": {
            "tags": []
          },
          "execution_count": 14
        }
      ]
    },
    {
      "cell_type": "code",
      "metadata": {
        "id": "PvbUo2y3VNks"
      },
      "source": [
        "for i in range(0,len(Y)):\r\n",
        "  if Y[i] ==\"attack\":\r\n",
        "    Y[i]=0\r\n",
        "  else:\r\n",
        "    Y[i]=1\r\n"
      ],
      "execution_count": 15,
      "outputs": []
    },
    {
      "cell_type": "code",
      "metadata": {
        "id": "j-2heV8xVf0g"
      },
      "source": [
        "features = len(X[0])\r\n",
        "samples = X.shape[0]\r\n",
        "train_len = 25\r\n",
        "input_len = samples - train_len\r\n",
        "I = np.zeros((samples - train_len, train_len, features))\r\n",
        "\r\n",
        "for i in range(input_len):\r\n",
        "    temp = np.zeros((train_len, features))\r\n",
        "    for j in range(i, i + train_len - 1):\r\n",
        "        temp[j-i] = X[j]\r\n",
        "    I[i] = temp"
      ],
      "execution_count": 16,
      "outputs": []
    },
    {
      "cell_type": "code",
      "metadata": {
        "colab": {
          "base_uri": "https://localhost:8080/"
        },
        "id": "CXokG9tzi6RL",
        "outputId": "88721ddc-5baf-450a-da79-dd1eac6d501c"
      },
      "source": [
        "\r\n",
        "X.shape"
      ],
      "execution_count": 17,
      "outputs": [
        {
          "output_type": "execute_result",
          "data": {
            "text/plain": [
              "(100000, 25)"
            ]
          },
          "metadata": {
            "tags": []
          },
          "execution_count": 17
        }
      ]
    },
    {
      "cell_type": "code",
      "metadata": {
        "id": "ZBbn15PoeFfb"
      },
      "source": [
        "X_train, X_test, Y_train, Y_test = train_test_split(I, Y[25:100000], test_size = 0.2)"
      ],
      "execution_count": 18,
      "outputs": []
    },
    {
      "cell_type": "code",
      "metadata": {
        "id": "tXqFUOEJg821"
      },
      "source": [
        "def create_baseline():\r\n",
        "    model = Sequential()\r\n",
        "    \r\n",
        "    model.add(Bidirectional(LSTM(64, activation='tanh', kernel_regularizer='l2', return_sequences=False)))\r\n",
        "    # model.add(Bidirectional(LSTM(64, activation='tanh', kernel_regularizer='l2')))\r\n",
        "    # model.add(LSTM(64, activation='tanh', kernel_regularizer='l2', return_sequences=True))\r\n",
        "    # model.add(LSTM(64, activation='tanh', kernel_regularizer='l2', return_sequences=True))\r\n",
        "    # model.add(LSTM(64, activation='tanh', kernel_regularizer='l2'))\r\n",
        "    \r\n",
        "\r\n",
        "    model.add(Dense(128, activation = 'relu', kernel_regularizer='l2'))\r\n",
        "    model.add(Dense(1, activation = 'sigmoid', kernel_regularizer='l2'))\r\n",
        "    \r\n",
        "    model.compile(loss = 'binary_crossentropy', optimizer = 'adam', metrics = ['accuracy'])\r\n",
        "    \r\n",
        "    return model"
      ],
      "execution_count": 19,
      "outputs": []
    },
    {
      "cell_type": "code",
      "metadata": {
        "id": "hnl6nzZaiQj4"
      },
      "source": [
        "model = create_baseline()"
      ],
      "execution_count": 20,
      "outputs": []
    },
    {
      "cell_type": "code",
      "metadata": {
        "colab": {
          "base_uri": "https://localhost:8080/"
        },
        "id": "XMELvDm0nMGa",
        "outputId": "d828ddfb-d7db-48b1-dc4d-1bc56a1b48c5"
      },
      "source": [
        "print(Y_train.dtype)"
      ],
      "execution_count": 21,
      "outputs": [
        {
          "output_type": "stream",
          "text": [
            "object\n"
          ],
          "name": "stdout"
        }
      ]
    },
    {
      "cell_type": "code",
      "metadata": {
        "colab": {
          "base_uri": "https://localhost:8080/"
        },
        "id": "tN-rqm0onvin",
        "outputId": "250a7641-8199-4be7-aee8-2ee59d4b8a2a"
      },
      "source": [
        "Y_train[0:10]"
      ],
      "execution_count": 22,
      "outputs": [
        {
          "output_type": "execute_result",
          "data": {
            "text/plain": [
              "array([1, 1, 1, 0, 1, 0, 0, 0, 1, 1], dtype=object)"
            ]
          },
          "metadata": {
            "tags": []
          },
          "execution_count": 22
        }
      ]
    },
    {
      "cell_type": "code",
      "metadata": {
        "colab": {
          "base_uri": "https://localhost:8080/"
        },
        "id": "qHFV-cd_oWBx",
        "outputId": "65a7e1ba-9dae-4810-cfab-509c673e1599"
      },
      "source": [
        "X_train[0:10]"
      ],
      "execution_count": 23,
      "outputs": [
        {
          "output_type": "execute_result",
          "data": {
            "text/plain": [
              "array([[[-0.8596244 ,  0.03422529, -0.86468778, ..., -0.12972475,\n",
              "         -0.29885158, -0.06794842],\n",
              "        [ 0.23634948,  0.03422529,  0.23823642, ..., -0.12972475,\n",
              "         -0.29885158, -0.06662271],\n",
              "        [ 0.23634948,  0.03422529,  0.23823642, ..., -0.12972475,\n",
              "         -0.29885158, -0.06759676],\n",
              "        ...,\n",
              "        [-0.78287553,  0.03422529, -0.77890479, ..., -0.12972475,\n",
              "          0.24504079, -0.06771829],\n",
              "        [-0.8596244 ,  0.03422529, -0.86468778, ...,  7.70862898,\n",
              "          0.24724278, 21.26708065],\n",
              "        [ 0.        ,  0.        ,  0.        , ...,  0.        ,\n",
              "          0.        ,  0.        ]],\n",
              "\n",
              "       [[ 1.24943459,  0.03422529,  1.24925028, ..., -0.12972475,\n",
              "         -0.37256331, -0.06691745],\n",
              "        [ 1.24943459,  0.03422529,  1.24925028, ..., -0.12972475,\n",
              "         -0.37256331, -0.06684392],\n",
              "        [-0.8596244 ,  0.03422529, -0.86468778, ..., -0.12972475,\n",
              "          0.19967972, -0.06761676],\n",
              "        ...,\n",
              "        [ 1.24943459,  0.03422529,  1.24925028, ..., -0.12972475,\n",
              "         -0.36793912, -0.06665317],\n",
              "        [ 1.24943459,  0.03422529,  1.24925028, ..., -0.12972475,\n",
              "         -0.36793912, -0.06669039],\n",
              "        [ 0.        ,  0.        ,  0.        , ...,  0.        ,\n",
              "          0.        ,  0.        ]],\n",
              "\n",
              "       [[-0.8596244 ,  0.03422529, -0.86468778, ...,  7.70862898,\n",
              "          2.75267086,  2.15281603],\n",
              "        [-0.8596244 ,  0.03422529, -0.86468778, ...,  7.70862898,\n",
              "          0.17226491,  0.67226804],\n",
              "        [-0.85655444,  0.03422529, -0.85243307, ..., -0.12972475,\n",
              "          0.18999095, -0.06799734],\n",
              "        ...,\n",
              "        [-0.8596244 ,  0.03422529, -0.86468778, ..., -0.12972475,\n",
              "         -0.29885158, -0.05782821],\n",
              "        [-0.8596244 ,  0.03422529, -0.86468778, ..., -0.12972475,\n",
              "         -0.29885158, -0.0679475 ],\n",
              "        [ 0.        ,  0.        ,  0.        , ...,  0.        ,\n",
              "          0.        ,  0.        ]],\n",
              "\n",
              "       ...,\n",
              "\n",
              "       [[-0.85655444,  0.03422529, -0.85243307, ..., -0.12972475,\n",
              "         -0.71194554, -0.06799734],\n",
              "        [ 1.32004355,  0.03422529,  1.31971488, ..., -0.12972475,\n",
              "         -0.71194554, -0.06799734],\n",
              "        [-0.79515535,  0.03422529, -0.7911595 , ..., -0.12972475,\n",
              "         -0.29885158, -0.05438947],\n",
              "        ...,\n",
              "        [-0.81971499,  0.03422529, -0.81566893, ..., -0.12972475,\n",
              "         -0.29885158, -0.06796042],\n",
              "        [-0.73375625,  0.03422529, -0.72988593, ..., -0.12972475,\n",
              "         -0.29885158, -0.06795611],\n",
              "        [ 0.        ,  0.        ,  0.        , ...,  0.        ,\n",
              "          0.        ,  0.        ]],\n",
              "\n",
              "       [[-0.75831589,  0.03422529, -0.75439536, ..., -0.12972475,\n",
              "          2.82181346, -0.0678189 ],\n",
              "        [-0.8596244 ,  0.03422529, -0.86468778, ..., -0.12972475,\n",
              "         -0.29885158, -0.0560167 ],\n",
              "        [-0.8596244 ,  0.03422529, -0.86468778, ..., -0.12972475,\n",
              "         -0.29885158, -0.06794781],\n",
              "        ...,\n",
              "        [-0.8596244 ,  0.03422529, -0.86468778, ..., -0.12972475,\n",
              "          0.25252757, -0.06767799],\n",
              "        [-0.8596244 ,  0.03422529, -0.86468778, ..., -0.12972475,\n",
              "          0.25252757, -0.06799549],\n",
              "        [ 0.        ,  0.        ,  0.        , ...,  0.        ,\n",
              "          0.        ,  0.        ]],\n",
              "\n",
              "       [[ 1.24943459,  0.03422529,  1.24925028, ..., -0.12972475,\n",
              "         -0.43565042, -0.06698975],\n",
              "        [-0.8596244 ,  0.03422529, -0.86468778, ..., -0.12972475,\n",
              "          0.19967972, -0.06741217],\n",
              "        [ 1.24943459,  0.03422529,  1.24925028, ..., -0.12972475,\n",
              "         -0.43565042, -0.06727649],\n",
              "        ...,\n",
              "        [-0.8596244 ,  0.03422529, -0.86468778, ..., -0.12972475,\n",
              "          0.19967972, -0.0676183 ],\n",
              "        [ 1.24943459,  0.03422529,  1.24925028, ..., -0.12972475,\n",
              "         -0.43565042, -0.05324097],\n",
              "        [ 0.        ,  0.        ,  0.        , ...,  0.        ,\n",
              "          0.        ,  0.        ]]])"
            ]
          },
          "metadata": {
            "tags": []
          },
          "execution_count": 23
        }
      ]
    },
    {
      "cell_type": "code",
      "metadata": {
        "id": "SCkiZks-obQW"
      },
      "source": [
        "Y_train = np.asarray(Y_train).astype(np.float32)\r\n",
        "Y_test = np.asarray(Y_test).astype(np.float32)"
      ],
      "execution_count": 24,
      "outputs": []
    },
    {
      "cell_type": "code",
      "metadata": {
        "colab": {
          "base_uri": "https://localhost:8080/"
        },
        "id": "viCi6nhWiZKH",
        "outputId": "142d6a92-a478-468b-d4c8-2acedcafaa3d"
      },
      "source": [
        "history = model.fit(X_train, Y_train, epochs = 40,validation_split=0.2, verbose = 1)"
      ],
      "execution_count": 25,
      "outputs": [
        {
          "output_type": "stream",
          "text": [
            "Epoch 1/40\n",
            "2000/2000 [==============================] - 36s 16ms/step - loss: 0.5315 - accuracy: 0.9151 - val_loss: 0.1892 - val_accuracy: 0.9524\n",
            "Epoch 2/40\n",
            "2000/2000 [==============================] - 37s 18ms/step - loss: 0.1904 - accuracy: 0.9522 - val_loss: 0.2029 - val_accuracy: 0.9493\n",
            "Epoch 3/40\n",
            "2000/2000 [==============================] - 32s 16ms/step - loss: 0.1665 - accuracy: 0.9601 - val_loss: 0.1647 - val_accuracy: 0.9587\n",
            "Epoch 4/40\n",
            "2000/2000 [==============================] - 32s 16ms/step - loss: 0.1560 - accuracy: 0.9611 - val_loss: 0.1309 - val_accuracy: 0.9691\n",
            "Epoch 5/40\n",
            "2000/2000 [==============================] - 32s 16ms/step - loss: 0.1466 - accuracy: 0.9640 - val_loss: 0.1302 - val_accuracy: 0.9686\n",
            "Epoch 6/40\n",
            "2000/2000 [==============================] - 31s 16ms/step - loss: 0.1448 - accuracy: 0.9638 - val_loss: 0.1236 - val_accuracy: 0.9708\n",
            "Epoch 7/40\n",
            "2000/2000 [==============================] - 31s 16ms/step - loss: 0.1388 - accuracy: 0.9658 - val_loss: 0.1276 - val_accuracy: 0.9686\n",
            "Epoch 8/40\n",
            "2000/2000 [==============================] - 31s 16ms/step - loss: 0.1374 - accuracy: 0.9652 - val_loss: 0.1296 - val_accuracy: 0.9670\n",
            "Epoch 9/40\n",
            "2000/2000 [==============================] - 32s 16ms/step - loss: 0.1382 - accuracy: 0.9631 - val_loss: 0.1329 - val_accuracy: 0.9698\n",
            "Epoch 10/40\n",
            "2000/2000 [==============================] - 32s 16ms/step - loss: 0.1235 - accuracy: 0.9692 - val_loss: 0.1421 - val_accuracy: 0.9582\n",
            "Epoch 11/40\n",
            "2000/2000 [==============================] - 31s 16ms/step - loss: 0.1310 - accuracy: 0.9677 - val_loss: 0.1132 - val_accuracy: 0.9718\n",
            "Epoch 12/40\n",
            "2000/2000 [==============================] - 31s 16ms/step - loss: 0.1240 - accuracy: 0.9682 - val_loss: 0.1153 - val_accuracy: 0.9725\n",
            "Epoch 13/40\n",
            "2000/2000 [==============================] - 31s 16ms/step - loss: 0.1263 - accuracy: 0.9689 - val_loss: 0.1162 - val_accuracy: 0.9712\n",
            "Epoch 14/40\n",
            "2000/2000 [==============================] - 31s 16ms/step - loss: 0.1229 - accuracy: 0.9698 - val_loss: 0.1712 - val_accuracy: 0.9489\n",
            "Epoch 15/40\n",
            "2000/2000 [==============================] - 32s 16ms/step - loss: 0.1387 - accuracy: 0.9625 - val_loss: 0.1282 - val_accuracy: 0.9696\n",
            "Epoch 16/40\n",
            "2000/2000 [==============================] - 31s 16ms/step - loss: 0.1215 - accuracy: 0.9691 - val_loss: 0.1160 - val_accuracy: 0.9724\n",
            "Epoch 17/40\n",
            "2000/2000 [==============================] - 34s 17ms/step - loss: 0.1224 - accuracy: 0.9693 - val_loss: 0.1280 - val_accuracy: 0.9697\n",
            "Epoch 18/40\n",
            "2000/2000 [==============================] - 32s 16ms/step - loss: 0.1201 - accuracy: 0.9703 - val_loss: 0.1176 - val_accuracy: 0.9736\n",
            "Epoch 19/40\n",
            "2000/2000 [==============================] - 34s 17ms/step - loss: 0.1163 - accuracy: 0.9705 - val_loss: 0.1025 - val_accuracy: 0.9744\n",
            "Epoch 20/40\n",
            "2000/2000 [==============================] - 35s 17ms/step - loss: 0.1247 - accuracy: 0.9681 - val_loss: 0.1361 - val_accuracy: 0.9639\n",
            "Epoch 21/40\n",
            "2000/2000 [==============================] - 33s 16ms/step - loss: 0.1217 - accuracy: 0.9691 - val_loss: 0.1160 - val_accuracy: 0.9732\n",
            "Epoch 22/40\n",
            "2000/2000 [==============================] - 33s 16ms/step - loss: 0.1168 - accuracy: 0.9703 - val_loss: 0.1174 - val_accuracy: 0.9718\n",
            "Epoch 23/40\n",
            "2000/2000 [==============================] - 32s 16ms/step - loss: 0.1107 - accuracy: 0.9727 - val_loss: 0.1069 - val_accuracy: 0.9735\n",
            "Epoch 24/40\n",
            "2000/2000 [==============================] - 32s 16ms/step - loss: 0.1131 - accuracy: 0.9722 - val_loss: 0.1081 - val_accuracy: 0.9722\n",
            "Epoch 25/40\n",
            "2000/2000 [==============================] - 32s 16ms/step - loss: 0.1114 - accuracy: 0.9730 - val_loss: 0.1093 - val_accuracy: 0.9735\n",
            "Epoch 26/40\n",
            "2000/2000 [==============================] - 31s 16ms/step - loss: 0.1123 - accuracy: 0.9723 - val_loss: 0.1183 - val_accuracy: 0.9690\n",
            "Epoch 27/40\n",
            "2000/2000 [==============================] - 31s 15ms/step - loss: 0.1215 - accuracy: 0.9689 - val_loss: 0.1064 - val_accuracy: 0.9744\n",
            "Epoch 28/40\n",
            "2000/2000 [==============================] - 31s 16ms/step - loss: 0.1070 - accuracy: 0.9744 - val_loss: 0.1007 - val_accuracy: 0.9749\n",
            "Epoch 29/40\n",
            "2000/2000 [==============================] - 31s 15ms/step - loss: 0.1023 - accuracy: 0.9756 - val_loss: 0.1710 - val_accuracy: 0.9537\n",
            "Epoch 30/40\n",
            "2000/2000 [==============================] - 31s 15ms/step - loss: 0.1262 - accuracy: 0.9684 - val_loss: 0.1344 - val_accuracy: 0.9681\n",
            "Epoch 31/40\n",
            "2000/2000 [==============================] - 31s 15ms/step - loss: 0.1069 - accuracy: 0.9745 - val_loss: 0.1087 - val_accuracy: 0.9766\n",
            "Epoch 32/40\n",
            "2000/2000 [==============================] - 31s 15ms/step - loss: 0.1043 - accuracy: 0.9756 - val_loss: 0.1088 - val_accuracy: 0.9717\n",
            "Epoch 33/40\n",
            "2000/2000 [==============================] - 31s 15ms/step - loss: 0.1052 - accuracy: 0.9759 - val_loss: 0.1001 - val_accuracy: 0.9776\n",
            "Epoch 34/40\n",
            "2000/2000 [==============================] - 31s 16ms/step - loss: 0.1064 - accuracy: 0.9746 - val_loss: 0.1066 - val_accuracy: 0.9737\n",
            "Epoch 35/40\n",
            "2000/2000 [==============================] - 30s 15ms/step - loss: 0.1028 - accuracy: 0.9757 - val_loss: 0.1044 - val_accuracy: 0.9772\n",
            "Epoch 36/40\n",
            "2000/2000 [==============================] - 30s 15ms/step - loss: 0.0968 - accuracy: 0.9772 - val_loss: 0.1180 - val_accuracy: 0.9742\n",
            "Epoch 37/40\n",
            "2000/2000 [==============================] - 30s 15ms/step - loss: 0.1042 - accuracy: 0.9754 - val_loss: 0.1085 - val_accuracy: 0.9756\n",
            "Epoch 38/40\n",
            "2000/2000 [==============================] - 30s 15ms/step - loss: 0.1011 - accuracy: 0.9774 - val_loss: 0.0918 - val_accuracy: 0.9786\n",
            "Epoch 39/40\n",
            "2000/2000 [==============================] - 30s 15ms/step - loss: 0.0954 - accuracy: 0.9784 - val_loss: 0.0977 - val_accuracy: 0.9785\n",
            "Epoch 40/40\n",
            "2000/2000 [==============================] - 30s 15ms/step - loss: 0.0983 - accuracy: 0.9781 - val_loss: 0.0977 - val_accuracy: 0.9786\n"
          ],
          "name": "stdout"
        }
      ]
    },
    {
      "cell_type": "code",
      "metadata": {
        "colab": {
          "base_uri": "https://localhost:8080/",
          "height": 301
        },
        "id": "WPXWTkCbw3kT",
        "outputId": "c5ce2fd0-4339-487a-9704-184af8a49046"
      },
      "source": [
        "plt.plot(history.history['accuracy'])\r\n",
        "plt.plot(history.history['val_accuracy'])\r\n",
        "plt.title('BRNN Model Accuracy')\r\n",
        "plt.ylabel('Accuracy')\r\n",
        "plt.xlabel('Epoch')\r\n",
        "plt.legend(['Train', 'Test'], loc='lower right')\r\n",
        "plt.savefig('BRNN Model Accuracy.png')\r\n",
        "plt.show()"
      ],
      "execution_count": 26,
      "outputs": [
        {
          "output_type": "display_data",
          "data": {
            "image/png": "[encoded data removed]",
            "text/plain": [
              "<Figure size 432x288 with 1 Axes>"
            ]
          },
          "metadata": {
            "tags": []
          }
        }
      ]
    },
    {
      "cell_type": "code",
      "metadata": {
        "colab": {
          "base_uri": "https://localhost:8080/",
          "height": 301
        },
        "id": "eUd3kcIJ1Z_N",
        "outputId": "35ee3867-841b-4cd5-fe43-70ce9599b874"
      },
      "source": [
        "plt.plot(history.history['loss'])\r\n",
        "plt.plot(history.history['val_loss'])\r\n",
        "plt.title('BRNN Model  Loss')\r\n",
        "plt.ylabel('Loss')\r\n",
        "plt.xlabel('Epoch')\r\n",
        "plt.legend(['Train', 'Test'], loc='upper left')\r\n",
        "plt.savefig('BRNN Model Loss.png')\r\n",
        "plt.show()"
      ],
      "execution_count": 27,
      "outputs": [
        {
          "output_type": "display_data",
          "data": {
            "image/png": "[encoded data removed]",
            "text/plain": [
              "<Figure size 432x288 with 1 Axes>"
            ]
          },
          "metadata": {
            "tags": []
          }
        }
      ]
    },
    {
      "cell_type": "code",
      "metadata": {
        "colab": {
          "base_uri": "https://localhost:8080/"
        },
        "id": "Mo1cyL7S1hVF",
        "outputId": "4c34596f-8bcc-426c-a81b-9712bd21b0e1"
      },
      "source": [
        "predict = model.predict(X_test, verbose=1)"
      ],
      "execution_count": 28,
      "outputs": [
        {
          "output_type": "stream",
          "text": [
            "625/625 [==============================] - 3s 4ms/step\n"
          ],
          "name": "stdout"
        }
      ]
    },
    {
      "cell_type": "code",
      "metadata": {
        "id": "eBTyE15U1nGc"
      },
      "source": [
        "tp = 0\r\n",
        "tn = 0\r\n",
        "fp = 0\r\n",
        "fn = 0\r\n",
        "predictn = predict.flatten().round()\r\n",
        "predictn = predictn.tolist()\r\n",
        "Y_testn = Y_test.tolist()\r\n",
        "for i in range(len(Y_testn)):\r\n",
        "  if predictn[i]==1 and Y_testn[i]==1:\r\n",
        "    tp+=1\r\n",
        "  elif predictn[i]==0 and Y_testn[i]==0:\r\n",
        "    tn+=1\r\n",
        "  elif predictn[i]==0 and Y_testn[i]==1:\r\n",
        "    fp+=1\r\n",
        "  elif predictn[i]==1 and Y_testn[i]==0:\r\n",
        "    fn+=1\r\n"
      ],
      "execution_count": 29,
      "outputs": []
    },
    {
      "cell_type": "code",
      "metadata": {
        "colab": {
          "base_uri": "https://localhost:8080/",
          "height": 268
        },
        "id": "uxvcQbPZ1w1x",
        "outputId": "151883e5-9b16-479f-cda8-006dd00636ba"
      },
      "source": [
        "to_heat_map =[[tn,fp],[fn,tp]]\r\n",
        "to_heat_map = pd.DataFrame(to_heat_map, index = [\"Attack\",\"Normal\"],columns = [\"Attack\",\"Normal\"])\r\n",
        "ax = sns.heatmap(to_heat_map,annot=True, fmt=\"d\")"
      ],
      "execution_count": 30,
      "outputs": [
        {
          "output_type": "display_data",
          "data": {
            "image/png": "[encoded data removed]",
            "text/plain": [
              "<Figure size 432x288 with 2 Axes>"
            ]
          },
          "metadata": {
            "tags": []
          }
        }
      ]
    },
    {
      "cell_type": "code",
      "metadata": {
        "colab": {
          "base_uri": "https://localhost:8080/"
        },
        "id": "yV0HFt1z2Do6",
        "outputId": "56eb434d-b941-44cb-834c-0968d7c990bb"
      },
      "source": [
        "scores = model.evaluate(X_test, Y_test, verbose=0)\r\n",
        "print(\"%s: %.2f%%\" % (model.metrics_names[1], scores[1]*100))"
      ],
      "execution_count": 31,
      "outputs": [
        {
          "output_type": "stream",
          "text": [
            "accuracy: 97.96%\n"
          ],
          "name": "stdout"
        }
      ]
    },
    {
      "cell_type": "code",
      "metadata": {
        "colab": {
          "base_uri": "https://localhost:8080/"
        },
        "id": "-tQHkZ5E-w5K",
        "outputId": "982fc53e-03b6-4b3a-a0b0-7f5caa399e13"
      },
      "source": [
        "from sklearn.metrics import classification_report\r\n",
        "target_names = ['attack', 'normal']\r\n",
        "print(classification_report(Y_testn, predictn, target_names=target_names))"
      ],
      "execution_count": 33,
      "outputs": [
        {
          "output_type": "stream",
          "text": [
            "              precision    recall  f1-score   support\n",
            "\n",
            "      attack       0.99      0.97      0.98      9990\n",
            "      normal       0.97      0.99      0.98     10005\n",
            "\n",
            "    accuracy                           0.98     19995\n",
            "   macro avg       0.98      0.98      0.98     19995\n",
            "weighted avg       0.98      0.98      0.98     19995\n",
            "\n"
          ],
          "name": "stdout"
        }
      ]
    }
  ]
}