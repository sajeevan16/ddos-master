{
  "nbformat": 4,
  "nbformat_minor": 0,
  "metadata": {
    "colab": {
      "name": "DDoS Train",
      "provenance": [],
      "collapsed_sections": []
    },
    "kernelspec": {
      "name": "python3",
      "display_name": "Python 3"
    }
  },
  "cells": [
    {
      "cell_type": "code",
      "metadata": {
        "colab": {
          "base_uri": "https://localhost:8080/"
        },
        "id": "j2QVUv3K3E9y",
        "outputId": "23272205-acfc-4d72-a099-60eece52ebb9"
      },
      "source": [
        "from google.colab import drive\r\n",
        "drive.mount('/content/drive')"
      ],
      "execution_count": 496,
      "outputs": [
        {
          "output_type": "stream",
          "text": [
            "Drive already mounted at /content/drive; to attempt to forcibly remount, call drive.mount(\"/content/drive\", force_remount=True).\n"
          ],
          "name": "stdout"
        }
      ]
    },
    {
      "cell_type": "code",
      "metadata": {
        "id": "D-46kPGj3L5J"
      },
      "source": [
        "import numpy as np\r\n",
        "import pandas as pd\r\n",
        "import matplotlib.pyplot as plt\r\n",
        "\r\n",
        "import seaborn as sns; sns.set()"
      ],
      "execution_count": 497,
      "outputs": []
    },
    {
      "cell_type": "code",
      "metadata": {
        "id": "sQubvkef3ONW"
      },
      "source": [
        "from keras.models import Sequential, load_model\r\n",
        "from keras.layers import Dense, LSTM, Bidirectional\r\n",
        "from keras.utils import plot_model\r\n",
        "from keras.utils.np_utils import to_categorical\r\n",
        "from keras.utils import np_utils\r\n",
        "\r\n",
        "from sklearn.model_selection import train_test_split\r\n",
        "from sklearn.preprocessing import LabelEncoder, StandardScaler\r\n",
        "from sklearn.metrics import confusion_matrix\r\n",
        "from sklearn.metrics import classification_report"
      ],
      "execution_count": 498,
      "outputs": []
    },
    {
      "cell_type": "code",
      "metadata": {
        "id": "wSKkf9Ge3Qtf"
      },
      "source": [
        "data5 = pd.read_csv('/content/drive/MyDrive/Dataset/dataset5.csv')\r\n",
        "data6 = pd.read_csv('/content/drive/MyDrive/Dataset/dataset6.csv')"
      ],
      "execution_count": 499,
      "outputs": []
    },
    {
      "cell_type": "code",
      "metadata": {
        "id": "vzRkTpLJ7k4E"
      },
      "source": [
        "data5=data5.drop(['ip.src', 'ip.dst','frame.encap_type','frame.protocols'],axis=1)\r\n",
        "data6=data6.drop(['ip.src', 'ip.dst','frame.encap_type','frame.protocols'],axis=1)"
      ],
      "execution_count": 500,
      "outputs": []
    },
    {
      "cell_type": "code",
      "metadata": {
        "id": "eepYMV_NAbbb"
      },
      "source": [
        "#print(data5.columns)"
      ],
      "execution_count": 501,
      "outputs": []
    },
    {
      "cell_type": "code",
      "metadata": {
        "id": "ZWxwqMVR3fah"
      },
      "source": [
        "# data.columns=[ 'frame.len', 'frame.protocols', 'ip.hdr_len',\r\n",
        "#        'ip.len', 'ip.flags.rb', 'ip.flags.df', 'p.flags.mf', 'ip.frag_offset',\r\n",
        "#        'ip.ttl', 'ip.proto', 'ip.src', 'ip.dst', 'tcp.srcport', 'tcp.dstport',\r\n",
        "#        'tcp.len', 'tcp.ack', 'tcp.flags.res', 'tcp.flags.ns', 'tcp.flags.cwr',\r\n",
        "#        'tcp.flags.ecn', 'tcp.flags.urg', 'tcp.flags.ack', 'tcp.flags.push',\r\n",
        "#        'tcp.flags.reset', 'tcp.flags.syn', 'tcp.flags.fin', 'tcp.window_size',\r\n",
        "#        'tcp.time_delta','class']"
      ],
      "execution_count": 502,
      "outputs": []
    },
    {
      "cell_type": "code",
      "metadata": {
        "id": "P2ygOQxVJpb5"
      },
      "source": [
        "#data5[0:15]"
      ],
      "execution_count": 503,
      "outputs": []
    },
    {
      "cell_type": "code",
      "metadata": {
        "id": "4M6DksjP36ea"
      },
      "source": [
        "features=[ 'frame.len', 'ip.hdr_len',\r\n",
        "       'ip.len', 'ip.flags.rb', 'ip.flags.df', 'p.flags.mf', 'ip.frag_offset',\r\n",
        "       'ip.ttl', 'ip.proto', 'tcp.srcport', 'tcp.dstport',\r\n",
        "       'tcp.len', 'tcp.ack', 'tcp.flags.res', 'tcp.flags.ns', 'tcp.flags.cwr',\r\n",
        "       'tcp.flags.ecn', 'tcp.flags.urg', 'tcp.flags.ack', 'tcp.flags.push',\r\n",
        "       'tcp.flags.reset', 'tcp.flags.syn', 'tcp.flags.fin', 'tcp.window_size',\r\n",
        "       'tcp.time_delta']"
      ],
      "execution_count": 504,
      "outputs": []
    },
    {
      "cell_type": "code",
      "metadata": {
        "id": "kc2YG3PE3_Us"
      },
      "source": [
        "X5= data5[features].values\r\n",
        "Y5= data5['class']\r\n",
        "X6= data5[features].values\r\n",
        "Y6= data5['class']\r\n",
        "X=np.concatenate((X5,X6))\r\n",
        "Y=np.concatenate((Y5,Y6))"
      ],
      "execution_count": 505,
      "outputs": []
    },
    {
      "cell_type": "code",
      "metadata": {
        "id": "gfzHJTya4FJE"
      },
      "source": [
        "scalar = StandardScaler(copy=True, with_mean=True, with_std=True)\r\n",
        "scalar.fit(X)\r\n",
        "X = scalar.transform(X)"
      ],
      "execution_count": 506,
      "outputs": []
    },
    {
      "cell_type": "code",
      "metadata": {
        "id": "vQd4r8su4PVH"
      },
      "source": [
        "for i in range(0,len(Y)):\r\n",
        "  if Y[i] ==\"attack\":\r\n",
        "    Y[i]=0\r\n",
        "  else:\r\n",
        "    Y[i]=1\r\n"
      ],
      "execution_count": 507,
      "outputs": []
    },
    {
      "cell_type": "code",
      "metadata": {
        "id": "NMW5-G2A4R2A"
      },
      "source": [
        "features = len(X[0])\r\n",
        "samples = X.shape[0]\r\n",
        "train_len = 25\r\n",
        "input_len = samples - train_len\r\n",
        "I = np.zeros((samples - train_len, train_len, features))\r\n",
        "\r\n",
        "for i in range(input_len):\r\n",
        "    temp = np.zeros((train_len, features))\r\n",
        "    for j in range(i, i + train_len - 1):\r\n",
        "        temp[j-i] = X[j]\r\n",
        "    I[i] = temp"
      ],
      "execution_count": 508,
      "outputs": []
    },
    {
      "cell_type": "code",
      "metadata": {
        "id": "N0Kv8uYQ4UsD"
      },
      "source": [
        "X_train, X_test, Y_train, Y_test = train_test_split(I, Y[25:X.shape[0]], test_size = 0.2)"
      ],
      "execution_count": 509,
      "outputs": []
    },
    {
      "cell_type": "code",
      "metadata": {
        "id": "AEJkZLPb4kiG"
      },
      "source": [
        "def create_baseline():\r\n",
        "    model = Sequential()\r\n",
        "    \r\n",
        "    model.add(Bidirectional(LSTM(64, activation='tanh', kernel_regularizer='l2',input_shape=(25, features), return_sequences=False)))\r\n",
        "    # model.add(Bidirectional(LSTM(64, activation='tanh', kernel_regularizer='l2')))\r\n",
        "    # model.add(LSTM(64, activation='tanh', kernel_regularizer='l2', return_sequences=True))\r\n",
        "    # model.add(LSTM(64, activation='tanh', kernel_regularizer='l2', return_sequences=True))\r\n",
        "    # model.add(LSTM(64, activation='tanh', kernel_regularizer='l2'))\r\n",
        "    \r\n",
        "\r\n",
        "    model.add(Dense(128, activation = 'relu', kernel_regularizer='l2'))\r\n",
        "    model.add(Dense(1, activation = 'sigmoid', kernel_regularizer='l2'))\r\n",
        "    \r\n",
        "    \r\n",
        "    model.compile(loss = 'binary_crossentropy', optimizer = 'adam', metrics = ['accuracy'])\r\n",
        "    \r\n",
        "    return model"
      ],
      "execution_count": 510,
      "outputs": []
    },
    {
      "cell_type": "code",
      "metadata": {
        "id": "KA37aDp24oG7"
      },
      "source": [
        "model = create_baseline()"
      ],
      "execution_count": 511,
      "outputs": []
    },
    {
      "cell_type": "code",
      "metadata": {
        "id": "WmoxvA_KoJAx"
      },
      "source": [
        "# model.build()\r\n",
        "# model.summary()"
      ],
      "execution_count": 512,
      "outputs": []
    },
    {
      "cell_type": "code",
      "metadata": {
        "id": "LoKA_pJl4tbv"
      },
      "source": [
        "Y_train = np.asarray(Y_train).astype(np.float32)\r\n",
        "Y_test = np.asarray(Y_test).astype(np.float32)"
      ],
      "execution_count": 513,
      "outputs": []
    },
    {
      "cell_type": "code",
      "metadata": {
        "colab": {
          "base_uri": "https://localhost:8080/"
        },
        "id": "X3ndbPbA44k-",
        "outputId": "a69c879c-460e-444c-ad42-fae3606c8bf7"
      },
      "source": [
        "history = model.fit(X_train, Y_train, epochs = 40,validation_split=0.2, verbose = 1)"
      ],
      "execution_count": 514,
      "outputs": [
        {
          "output_type": "stream",
          "text": [
            "Epoch 1/40\n",
            "36/36 [==============================] - 5s 47ms/step - loss: 2.3499 - accuracy: 0.8589 - val_loss: 1.2396 - val_accuracy: 0.9826\n",
            "Epoch 2/40\n",
            "36/36 [==============================] - 1s 23ms/step - loss: 1.0851 - accuracy: 0.9714 - val_loss: 0.6243 - val_accuracy: 0.9861\n",
            "Epoch 3/40\n",
            "36/36 [==============================] - 1s 23ms/step - loss: 0.5787 - accuracy: 0.9695 - val_loss: 0.3270 - val_accuracy: 0.9861\n",
            "Epoch 4/40\n",
            "36/36 [==============================] - 1s 23ms/step - loss: 0.2991 - accuracy: 0.9838 - val_loss: 0.1999 - val_accuracy: 0.9861\n",
            "Epoch 5/40\n",
            "36/36 [==============================] - 1s 24ms/step - loss: 0.2064 - accuracy: 0.9796 - val_loss: 0.1383 - val_accuracy: 0.9861\n",
            "Epoch 6/40\n",
            "36/36 [==============================] - 1s 34ms/step - loss: 0.1754 - accuracy: 0.9781 - val_loss: 0.1139 - val_accuracy: 0.9861\n",
            "Epoch 7/40\n",
            "36/36 [==============================] - 1s 23ms/step - loss: 0.1081 - accuracy: 0.9866 - val_loss: 0.1058 - val_accuracy: 0.9861\n",
            "Epoch 8/40\n",
            "36/36 [==============================] - 1s 23ms/step - loss: 0.1122 - accuracy: 0.9844 - val_loss: 0.0903 - val_accuracy: 0.9895\n",
            "Epoch 9/40\n",
            "36/36 [==============================] - 1s 24ms/step - loss: 0.1123 - accuracy: 0.9840 - val_loss: 0.0847 - val_accuracy: 0.9895\n",
            "Epoch 10/40\n",
            "36/36 [==============================] - 1s 24ms/step - loss: 0.1049 - accuracy: 0.9816 - val_loss: 0.0868 - val_accuracy: 0.9895\n",
            "Epoch 11/40\n",
            "36/36 [==============================] - 1s 23ms/step - loss: 0.1243 - accuracy: 0.9794 - val_loss: 0.0747 - val_accuracy: 0.9930\n",
            "Epoch 12/40\n",
            "36/36 [==============================] - 1s 22ms/step - loss: 0.1028 - accuracy: 0.9853 - val_loss: 0.0767 - val_accuracy: 0.9930\n",
            "Epoch 13/40\n",
            "36/36 [==============================] - 1s 24ms/step - loss: 0.0829 - accuracy: 0.9903 - val_loss: 0.0880 - val_accuracy: 0.9895\n",
            "Epoch 14/40\n",
            "36/36 [==============================] - 1s 24ms/step - loss: 0.1149 - accuracy: 0.9814 - val_loss: 0.0799 - val_accuracy: 0.9895\n",
            "Epoch 15/40\n",
            "36/36 [==============================] - 1s 23ms/step - loss: 0.0998 - accuracy: 0.9832 - val_loss: 0.0776 - val_accuracy: 0.9895\n",
            "Epoch 16/40\n",
            "36/36 [==============================] - 1s 23ms/step - loss: 0.1113 - accuracy: 0.9806 - val_loss: 0.0766 - val_accuracy: 0.9895\n",
            "Epoch 17/40\n",
            "36/36 [==============================] - 1s 23ms/step - loss: 0.0962 - accuracy: 0.9841 - val_loss: 0.0763 - val_accuracy: 0.9895\n",
            "Epoch 18/40\n",
            "36/36 [==============================] - 1s 23ms/step - loss: 0.1073 - accuracy: 0.9825 - val_loss: 0.0700 - val_accuracy: 0.9930\n",
            "Epoch 19/40\n",
            "36/36 [==============================] - 1s 23ms/step - loss: 0.0984 - accuracy: 0.9841 - val_loss: 0.0842 - val_accuracy: 0.9930\n",
            "Epoch 20/40\n",
            "36/36 [==============================] - 1s 23ms/step - loss: 0.0982 - accuracy: 0.9871 - val_loss: 0.0813 - val_accuracy: 0.9930\n",
            "Epoch 21/40\n",
            "36/36 [==============================] - 1s 24ms/step - loss: 0.1150 - accuracy: 0.9817 - val_loss: 0.0723 - val_accuracy: 0.9930\n",
            "Epoch 22/40\n",
            "36/36 [==============================] - 1s 23ms/step - loss: 0.1107 - accuracy: 0.9823 - val_loss: 0.0704 - val_accuracy: 0.9930\n",
            "Epoch 23/40\n",
            "36/36 [==============================] - 1s 23ms/step - loss: 0.0958 - accuracy: 0.9858 - val_loss: 0.0701 - val_accuracy: 0.9930\n",
            "Epoch 24/40\n",
            "36/36 [==============================] - 1s 23ms/step - loss: 0.0969 - accuracy: 0.9851 - val_loss: 0.0652 - val_accuracy: 0.9930\n",
            "Epoch 25/40\n",
            "36/36 [==============================] - 1s 23ms/step - loss: 0.0955 - accuracy: 0.9832 - val_loss: 0.0723 - val_accuracy: 0.9930\n",
            "Epoch 26/40\n",
            "36/36 [==============================] - 1s 24ms/step - loss: 0.0898 - accuracy: 0.9877 - val_loss: 0.0698 - val_accuracy: 0.9930\n",
            "Epoch 27/40\n",
            "36/36 [==============================] - 1s 24ms/step - loss: 0.0883 - accuracy: 0.9870 - val_loss: 0.0659 - val_accuracy: 0.9930\n",
            "Epoch 28/40\n",
            "36/36 [==============================] - 1s 23ms/step - loss: 0.0866 - accuracy: 0.9864 - val_loss: 0.0752 - val_accuracy: 0.9930\n",
            "Epoch 29/40\n",
            "36/36 [==============================] - 1s 23ms/step - loss: 0.0972 - accuracy: 0.9851 - val_loss: 0.0667 - val_accuracy: 0.9930\n",
            "Epoch 30/40\n",
            "36/36 [==============================] - 1s 23ms/step - loss: 0.0740 - accuracy: 0.9906 - val_loss: 0.0725 - val_accuracy: 0.9930\n",
            "Epoch 31/40\n",
            "36/36 [==============================] - 1s 23ms/step - loss: 0.0970 - accuracy: 0.9849 - val_loss: 0.0640 - val_accuracy: 0.9930\n",
            "Epoch 32/40\n",
            "36/36 [==============================] - 1s 23ms/step - loss: 0.0695 - accuracy: 0.9911 - val_loss: 0.0668 - val_accuracy: 0.9930\n",
            "Epoch 33/40\n",
            "36/36 [==============================] - 1s 23ms/step - loss: 0.0854 - accuracy: 0.9859 - val_loss: 0.0632 - val_accuracy: 0.9930\n",
            "Epoch 34/40\n",
            "36/36 [==============================] - 1s 24ms/step - loss: 0.0699 - accuracy: 0.9907 - val_loss: 0.0638 - val_accuracy: 0.9930\n",
            "Epoch 35/40\n",
            "36/36 [==============================] - 1s 23ms/step - loss: 0.0717 - accuracy: 0.9911 - val_loss: 0.0692 - val_accuracy: 0.9930\n",
            "Epoch 36/40\n",
            "36/36 [==============================] - 1s 23ms/step - loss: 0.1170 - accuracy: 0.9787 - val_loss: 0.1883 - val_accuracy: 0.9582\n",
            "Epoch 37/40\n",
            "36/36 [==============================] - 1s 23ms/step - loss: 0.1708 - accuracy: 0.9660 - val_loss: 0.1551 - val_accuracy: 0.9582\n",
            "Epoch 38/40\n",
            "36/36 [==============================] - 1s 24ms/step - loss: 0.1343 - accuracy: 0.9660 - val_loss: 0.0991 - val_accuracy: 0.9930\n",
            "Epoch 39/40\n",
            "36/36 [==============================] - 1s 24ms/step - loss: 0.1089 - accuracy: 0.9825 - val_loss: 0.0869 - val_accuracy: 0.9930\n",
            "Epoch 40/40\n",
            "36/36 [==============================] - 1s 23ms/step - loss: 0.1138 - accuracy: 0.9801 - val_loss: 0.0820 - val_accuracy: 0.9930\n"
          ],
          "name": "stdout"
        }
      ]
    },
    {
      "cell_type": "code",
      "metadata": {
        "colab": {
          "base_uri": "https://localhost:8080/",
          "height": 301
        },
        "id": "o1I372Ur4-4b",
        "outputId": "a502ab17-39a3-463c-88b4-674d4ab39836"
      },
      "source": [
        "plt.plot(history.history['accuracy'])\r\n",
        "plt.plot(history.history['val_accuracy'])\r\n",
        "plt.title('BRNN Model Accuracy')\r\n",
        "plt.ylabel('Accuracy')\r\n",
        "plt.xlabel('Epoch')\r\n",
        "plt.legend(['Train', 'Test'], loc='lower right')\r\n",
        "plt.savefig('BRNN Model Accuracy.png')\r\n",
        "plt.show()"
      ],
      "execution_count": 515,
      "outputs": [
        {
          "output_type": "display_data",
          "data": {
            "image/png": "[encoded data removed]",
            "text/plain": [
              "<Figure size 432x288 with 1 Axes>"
            ]
          },
          "metadata": {
            "tags": []
          }
        }
      ]
    },
    {
      "cell_type": "code",
      "metadata": {
        "colab": {
          "base_uri": "https://localhost:8080/",
          "height": 301
        },
        "id": "QrnT8LCk5Bc8",
        "outputId": "44a01def-6158-40f2-f908-a2aae721cbcf"
      },
      "source": [
        "plt.plot(history.history['loss'])\r\n",
        "plt.plot(history.history['val_loss'])\r\n",
        "plt.title('BRNN Model  Loss')\r\n",
        "plt.ylabel('Loss')\r\n",
        "plt.xlabel('Epoch')\r\n",
        "plt.legend(['Train', 'Test'], loc='upper left')\r\n",
        "plt.savefig('BRNN Model Loss.png')\r\n",
        "plt.show()"
      ],
      "execution_count": 516,
      "outputs": [
        {
          "output_type": "display_data",
          "data": {
            "image/png": "[encoded data removed]",
            "text/plain": [
              "<Figure size 432x288 with 1 Axes>"
            ]
          },
          "metadata": {
            "tags": []
          }
        }
      ]
    },
    {
      "cell_type": "code",
      "metadata": {
        "colab": {
          "base_uri": "https://localhost:8080/"
        },
        "id": "6YSbup4g5Ezy",
        "outputId": "1ad4936c-f670-4f31-9451-ad3fb2fba9db"
      },
      "source": [
        "predict = model.predict(X_test, verbose=1)"
      ],
      "execution_count": 517,
      "outputs": [
        {
          "output_type": "stream",
          "text": [
            "12/12 [==============================] - 1s 6ms/step\n"
          ],
          "name": "stdout"
        }
      ]
    },
    {
      "cell_type": "code",
      "metadata": {
        "id": "9eCHUJ2X5Hp7"
      },
      "source": [
        "tp = 0\r\n",
        "tn = 0\r\n",
        "fp = 0\r\n",
        "fn = 0\r\n",
        "predictn = predict.flatten().round()\r\n",
        "predictn = predictn.tolist()\r\n",
        "Y_testn = Y_test.tolist()\r\n",
        "for i in range(len(Y_testn)):\r\n",
        "  if predictn[i]==1 and Y_testn[i]==1:\r\n",
        "    tp+=1\r\n",
        "  elif predictn[i]==0 and Y_testn[i]==0:\r\n",
        "    tn+=1\r\n",
        "  elif predictn[i]==0 and Y_testn[i]==1:\r\n",
        "    fp+=1\r\n",
        "  elif predictn[i]==1 and Y_testn[i]==0:\r\n",
        "    fn+=1\r\n"
      ],
      "execution_count": 518,
      "outputs": []
    },
    {
      "cell_type": "code",
      "metadata": {
        "colab": {
          "base_uri": "https://localhost:8080/"
        },
        "id": "nwGvxIcBW0gP",
        "outputId": "9aef1285-8eef-4de2-c524-f4b1ad5ff8f8"
      },
      "source": [
        "target_names = ['attack', 'normal']\r\n",
        "print(classification_report(Y_testn, predictn, target_names=target_names))\r\n",
        "\r\n",
        "# len(predictn)\r\n",
        "\r\n",
        "# #len(Y_testn)\r\n",
        "# len(predict)\r\n",
        "# predict[0:2]\r\n",
        "# #len(X_test)\r\n",
        "# #X_test[0:1]"
      ],
      "execution_count": 523,
      "outputs": [
        {
          "output_type": "stream",
          "text": [
            "              precision    recall  f1-score   support\n",
            "\n",
            "      attack       0.98      0.99      0.98       324\n",
            "      normal       0.90      0.80      0.85        35\n",
            "\n",
            "    accuracy                           0.97       359\n",
            "   macro avg       0.94      0.90      0.92       359\n",
            "weighted avg       0.97      0.97      0.97       359\n",
            "\n"
          ],
          "name": "stdout"
        }
      ]
    },
    {
      "cell_type": "code",
      "metadata": {
        "colab": {
          "base_uri": "https://localhost:8080/"
        },
        "id": "3hQkBzlgrno0",
        "outputId": "4e66fc33-fb39-44b6-de77-bb79255eb68a"
      },
      "source": [
        "predict.flatten()[0:10]"
      ],
      "execution_count": 520,
      "outputs": [
        {
          "output_type": "execute_result",
          "data": {
            "text/plain": [
              "array([0.01916561, 0.01894689, 0.01879027, 0.02362525, 0.01920909,\n",
              "       0.01787695, 0.01941195, 0.02089348, 0.02393267, 0.01904821],\n",
              "      dtype=float32)"
            ]
          },
          "metadata": {
            "tags": []
          },
          "execution_count": 520
        }
      ]
    },
    {
      "cell_type": "code",
      "metadata": {
        "colab": {
          "base_uri": "https://localhost:8080/",
          "height": 268
        },
        "id": "zyhgb69x7bju",
        "outputId": "58516ad7-2582-4d3d-ce61-20e49433bab2"
      },
      "source": [
        "to_heat_map =[[tn,fp],[fn,tp]]\r\n",
        "to_heat_map = pd.DataFrame(to_heat_map, index = [\"Attack\",\"Normal\"],columns = [\"Attack\",\"Normal\"])\r\n",
        "ax = sns.heatmap(to_heat_map,annot=True, fmt=\"d\")"
      ],
      "execution_count": 521,
      "outputs": [
        {
          "output_type": "display_data",
          "data": {
            "image/png": "[encoded data removed]",
            "text/plain": [
              "<Figure size 432x288 with 2 Axes>"
            ]
          },
          "metadata": {
            "tags": []
          }
        }
      ]
    },
    {
      "cell_type": "code",
      "metadata": {
        "colab": {
          "base_uri": "https://localhost:8080/"
        },
        "id": "U405NBMf7d_a",
        "outputId": "fa43a64c-6286-412d-e5f6-757e4bdba737"
      },
      "source": [
        "scores = model.evaluate(X_test, Y_test, verbose=0)\r\n",
        "print(\"%s: %.2f%%\" % (model.metrics_names[1], scores[1]*100))"
      ],
      "execution_count": 522,
      "outputs": [
        {
          "output_type": "stream",
          "text": [
            "accuracy: 97.21%\n"
          ],
          "name": "stdout"
        }
      ]
    },
    {
      "cell_type": "code",
      "metadata": {
        "id": "3jZ2K0AUVrJH"
      },
      "source": [
        ""
      ],
      "execution_count": 522,
      "outputs": []
    }
  ]
}