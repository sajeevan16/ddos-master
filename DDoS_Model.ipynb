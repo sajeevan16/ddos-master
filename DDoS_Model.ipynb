{
  "nbformat": 4,
  "nbformat_minor": 0,
  "metadata": {
    "colab": {
      "name": "DDoS Model",
      "provenance": []
    },
    "kernelspec": {
      "name": "python3",
      "display_name": "Python 3"
    }
  },
  "cells": [
    {
      "cell_type": "code",
      "metadata": {
        "colab": {
          "base_uri": "https://localhost:8080/"
        },
        "id": "dBmTvOB5KAVJ",
        "outputId": "eb801c61-09aa-4721-8ca2-c2091a4940c9"
      },
      "source": [
        "from google.colab import drive\r\n",
        "drive.mount('/content/drive')"
      ],
      "execution_count": 213,
      "outputs": [
        {
          "output_type": "stream",
          "text": [
            "Drive already mounted at /content/drive; to attempt to forcibly remount, call drive.mount(\"/content/drive\", force_remount=True).\n"
          ],
          "name": "stdout"
        }
      ]
    },
    {
      "cell_type": "code",
      "metadata": {
        "id": "0dbIKSeTK0y_"
      },
      "source": [
        "import numpy as np\r\n",
        "import pandas as pd\r\n",
        "import matplotlib.pyplot as plt\r\n",
        "\r\n",
        "import seaborn as sns; sns.set()"
      ],
      "execution_count": 214,
      "outputs": []
    },
    {
      "cell_type": "code",
      "metadata": {
        "id": "fj5lGBZhLKDc"
      },
      "source": [
        "from keras.models import Sequential, load_model\r\n",
        "from keras.layers import Dense, LSTM, Bidirectional\r\n",
        "from keras.utils import plot_model\r\n",
        "from keras.utils.np_utils import to_categorical\r\n",
        "from keras.utils import np_utils\r\n",
        "\r\n",
        "from sklearn.model_selection import train_test_split\r\n",
        "from sklearn.preprocessing import LabelEncoder, StandardScaler\r\n",
        "from sklearn.metrics import confusion_matrix"
      ],
      "execution_count": 215,
      "outputs": []
    },
    {
      "cell_type": "code",
      "metadata": {
        "id": "U-RGxBb-Nsw3"
      },
      "source": [
        "data_attack = pd.read_csv('/content/drive/MyDrive/Dataset/attack.csv', nrows = 100000)"
      ],
      "execution_count": 216,
      "outputs": []
    },
    {
      "cell_type": "code",
      "metadata": {
        "id": "Fvdow9mNPopb"
      },
      "source": [
        "data_normal = pd.read_csv('/content/drive/MyDrive/Dataset/normal.csv', nrows = 100000)"
      ],
      "execution_count": 217,
      "outputs": []
    },
    {
      "cell_type": "code",
      "metadata": {
        "id": "8HZjZ2tBPw5J"
      },
      "source": [
        "data_normal.columns=[ 'frame.len', 'frame.protocols', 'ip.hdr_len',\r\n",
        "       'ip.len', 'ip.flags.rb', 'ip.flags.df', 'p.flags.mf', 'ip.frag_offset',\r\n",
        "       'ip.ttl', 'ip.proto', 'ip.src', 'ip.dst', 'tcp.srcport', 'tcp.dstport',\r\n",
        "       'tcp.len', 'tcp.ack', 'tcp.flags.res', 'tcp.flags.ns', 'tcp.flags.cwr',\r\n",
        "       'tcp.flags.ecn', 'tcp.flags.urg', 'tcp.flags.ack', 'tcp.flags.push',\r\n",
        "       'tcp.flags.reset', 'tcp.flags.syn', 'tcp.flags.fin', 'tcp.window_size',\r\n",
        "       'tcp.time_delta','class']\r\n",
        "data_attack.columns=[ 'frame.len', 'frame.protocols', 'ip.hdr_len',\r\n",
        "       'ip.len', 'ip.flags.rb', 'ip.flags.df', 'p.flags.mf', 'ip.frag_offset',\r\n",
        "       'ip.ttl', 'ip.proto', 'ip.src', 'ip.dst', 'tcp.srcport', 'tcp.dstport',\r\n",
        "       'tcp.len', 'tcp.ack', 'tcp.flags.res', 'tcp.flags.ns', 'tcp.flags.cwr',\r\n",
        "       'tcp.flags.ecn', 'tcp.flags.urg', 'tcp.flags.ack', 'tcp.flags.push',\r\n",
        "       'tcp.flags.reset', 'tcp.flags.syn', 'tcp.flags.fin', 'tcp.window_size',\r\n",
        "       'tcp.time_delta','class']"
      ],
      "execution_count": 218,
      "outputs": []
    },
    {
      "cell_type": "code",
      "metadata": {
        "id": "q54gNwSkP4tv"
      },
      "source": [
        "data_normal=data_normal.drop(['ip.src', 'ip.dst','frame.protocols'],axis=1)\r\n",
        "data_attack=data_attack.drop(['ip.src', 'ip.dst','frame.protocols'],axis=1)"
      ],
      "execution_count": 219,
      "outputs": []
    },
    {
      "cell_type": "code",
      "metadata": {
        "id": "LNaeaIzYUfWX"
      },
      "source": [
        "features=[ 'frame.len', 'ip.hdr_len',\r\n",
        "       'ip.len', 'ip.flags.rb', 'ip.flags.df', 'p.flags.mf', 'ip.frag_offset',\r\n",
        "       'ip.ttl', 'ip.proto', 'tcp.srcport', 'tcp.dstport',\r\n",
        "       'tcp.len', 'tcp.ack', 'tcp.flags.res', 'tcp.flags.ns', 'tcp.flags.cwr',\r\n",
        "       'tcp.flags.ecn', 'tcp.flags.urg', 'tcp.flags.ack', 'tcp.flags.push',\r\n",
        "       'tcp.flags.reset', 'tcp.flags.syn', 'tcp.flags.fin', 'tcp.window_size',\r\n",
        "       'tcp.time_delta']"
      ],
      "execution_count": 220,
      "outputs": []
    },
    {
      "cell_type": "code",
      "metadata": {
        "id": "lDLTkW5uU1tp"
      },
      "source": [
        "X_normal= data_normal[features].values\r\n",
        "X_attack= data_attack[features].values\r\n",
        "Y_normal= data_normal['class']\r\n",
        "Y_attack= data_attack['class']\r\n",
        "X=np.concatenate((X_normal,X_attack))\r\n",
        "Y=np.concatenate((Y_normal,Y_attack))"
      ],
      "execution_count": 221,
      "outputs": []
    },
    {
      "cell_type": "code",
      "metadata": {
        "id": "wlAySiy1VHUy"
      },
      "source": [
        "scalar = StandardScaler(copy=True, with_mean=True, with_std=True)\r\n",
        "scalar.fit(X)\r\n",
        "X = scalar.transform(X)"
      ],
      "execution_count": 222,
      "outputs": []
    },
    {
      "cell_type": "code",
      "metadata": {
        "id": "PvbUo2y3VNks"
      },
      "source": [
        "for i in range(0,len(Y)):\r\n",
        "  if Y[i] ==\"attack\":\r\n",
        "    Y[i]=0\r\n",
        "  else:\r\n",
        "    Y[i]=1\r\n"
      ],
      "execution_count": 223,
      "outputs": []
    },
    {
      "cell_type": "code",
      "metadata": {
        "id": "j-2heV8xVf0g"
      },
      "source": [
        "features = len(X[0])\r\n",
        "samples = X.shape[0]\r\n",
        "train_len = 25\r\n",
        "input_len = samples - train_len\r\n",
        "I = np.zeros((samples - train_len, train_len, features))\r\n",
        "\r\n",
        "for i in range(input_len):\r\n",
        "    temp = np.zeros((train_len, features))\r\n",
        "    for j in range(i, i + train_len - 1):\r\n",
        "        temp[j-i] = X[j]\r\n",
        "    I[i] = temp"
      ],
      "execution_count": 224,
      "outputs": []
    },
    {
      "cell_type": "code",
      "metadata": {
        "colab": {
          "base_uri": "https://localhost:8080/"
        },
        "id": "CXokG9tzi6RL",
        "outputId": "5c6a7517-d4a5-4060-a912-8a356cf2f874"
      },
      "source": [
        "\r\n",
        "X.shape"
      ],
      "execution_count": 225,
      "outputs": [
        {
          "output_type": "execute_result",
          "data": {
            "text/plain": [
              "(200000, 25)"
            ]
          },
          "metadata": {
            "tags": []
          },
          "execution_count": 225
        }
      ]
    },
    {
      "cell_type": "code",
      "metadata": {
        "id": "ZBbn15PoeFfb"
      },
      "source": [
        "X_train, X_test, Y_train, Y_test = train_test_split(I, Y[25:200000], test_size = 0.2)"
      ],
      "execution_count": 226,
      "outputs": []
    },
    {
      "cell_type": "code",
      "metadata": {
        "id": "tXqFUOEJg821"
      },
      "source": [
        "def create_baseline():\r\n",
        "    model = Sequential()\r\n",
        "    \r\n",
        "    model.add(Bidirectional(LSTM(64, activation='tanh', kernel_regularizer='l2', return_sequences=True)))\r\n",
        "    # model.add(Bidirectional(LSTM(64, activation='tanh', kernel_regularizer='l2')))\r\n",
        "    # model.add(LSTM(64, activation='tanh', kernel_regularizer='l2', return_sequences=True))\r\n",
        "    # model.add(LSTM(64, activation='tanh', kernel_regularizer='l2', return_sequences=True))\r\n",
        "    # model.add(LSTM(64, activation='tanh', kernel_regularizer='l2'))\r\n",
        "    \r\n",
        "\r\n",
        "    model.add(Dense(128, activation = 'relu', kernel_regularizer='l2'))\r\n",
        "    model.add(Dense(1, activation = 'sigmoid', kernel_regularizer='l2'))\r\n",
        "    \r\n",
        "    model.compile(loss = 'binary_crossentropy', optimizer = 'adam', metrics = ['accuracy'])\r\n",
        "    \r\n",
        "    return model"
      ],
      "execution_count": 227,
      "outputs": []
    },
    {
      "cell_type": "code",
      "metadata": {
        "id": "hnl6nzZaiQj4"
      },
      "source": [
        "model = create_baseline()"
      ],
      "execution_count": 228,
      "outputs": []
    },
    {
      "cell_type": "code",
      "metadata": {
        "colab": {
          "base_uri": "https://localhost:8080/"
        },
        "id": "XMELvDm0nMGa",
        "outputId": "0c974585-c8df-42fb-aafa-db40f59d7237"
      },
      "source": [
        "print(Y_train.dtype)"
      ],
      "execution_count": 229,
      "outputs": [
        {
          "output_type": "stream",
          "text": [
            "object\n"
          ],
          "name": "stdout"
        }
      ]
    },
    {
      "cell_type": "code",
      "metadata": {
        "colab": {
          "base_uri": "https://localhost:8080/"
        },
        "id": "tN-rqm0onvin",
        "outputId": "7a186f90-4c8d-47f0-cbe1-71a2bd4963af"
      },
      "source": [
        "Y_train[0:10]"
      ],
      "execution_count": 230,
      "outputs": [
        {
          "output_type": "execute_result",
          "data": {
            "text/plain": [
              "array([0, 1, 0, 0, 0, 0, 1, 1, 0, 1], dtype=object)"
            ]
          },
          "metadata": {
            "tags": []
          },
          "execution_count": 230
        }
      ]
    },
    {
      "cell_type": "code",
      "metadata": {
        "colab": {
          "base_uri": "https://localhost:8080/"
        },
        "id": "qHFV-cd_oWBx",
        "outputId": "12fde25e-d1ad-4237-e479-badfe7eb3dea"
      },
      "source": [
        "X_train[0:10]"
      ],
      "execution_count": 231,
      "outputs": [
        {
          "output_type": "execute_result",
          "data": {
            "text/plain": [
              "array([[[ 1.36957576,  0.04669418,  1.36913597, ..., -0.14432615,\n",
              "         -0.3535887 , -0.07655916],\n",
              "        [ 1.36957576,  0.04669418,  1.36913597, ..., -0.14432615,\n",
              "         -0.3535887 , -0.07670879],\n",
              "        [-0.30556023,  0.04669418, -0.30234292, ..., -0.14432615,\n",
              "         -0.3535887 , -0.07670631],\n",
              "        ...,\n",
              "        [ 1.36957576,  0.04669418,  1.36913597, ..., -0.14432615,\n",
              "         -0.3535887 , -0.07669024],\n",
              "        [ 1.36957576,  0.04669418,  1.36913597, ..., -0.14432615,\n",
              "         -0.3535887 , -0.07657812],\n",
              "        [ 0.        ,  0.        ,  0.        , ...,  0.        ,\n",
              "          0.        ,  0.        ]],\n",
              "\n",
              "       [[ 1.36957576,  0.04669418,  1.36913597, ..., -0.14432615,\n",
              "         -0.3535887 , -0.07673331],\n",
              "        [ 1.36957576,  0.04669418,  1.36913597, ..., -0.14432615,\n",
              "         -0.3535887 , -0.07653484],\n",
              "        [ 1.36957576,  0.04669418,  1.36913597, ..., -0.14432615,\n",
              "         -0.3535887 , -0.07673331],\n",
              "        ...,\n",
              "        [ 0.40362143,  0.04669418,  0.40529048, ..., -0.14432615,\n",
              "         -0.3535887 , -0.07662264],\n",
              "        [-0.85273056,  0.04669418, -0.85746912, ..., -0.14432615,\n",
              "          0.12974617, -0.07666839],\n",
              "        [ 0.        ,  0.        ,  0.        , ...,  0.        ,\n",
              "          0.        ,  0.        ]],\n",
              "\n",
              "       [[-0.77631012,  0.04669418, -0.77206509, ..., -0.14432615,\n",
              "         -0.3535887 , -0.07671312],\n",
              "        [-0.75185558,  0.04669418, -0.74766394, ..., -0.14432615,\n",
              "          0.1000203 , -0.07665335],\n",
              "        [ 1.36957576,  0.04669418,  1.36913597, ..., -0.14432615,\n",
              "         -0.3535887 , -0.07638067],\n",
              "        ...,\n",
              "        [-0.85273056,  0.04669418, -0.85746912, ..., -0.14432615,\n",
              "         -0.43388714, -0.07668777],\n",
              "        [-0.85273056,  0.04669418, -0.85746912, ..., -0.14432615,\n",
              "         -0.43388714, -0.07672837],\n",
              "        [ 0.        ,  0.        ,  0.        , ...,  0.        ,\n",
              "          0.        ,  0.        ]],\n",
              "\n",
              "       ...,\n",
              "\n",
              "       [[ 1.36957576,  0.04669418,  1.36913597, ..., -0.14432615,\n",
              "         -0.3535887 , -0.07652742],\n",
              "        [ 1.36957576,  0.04669418,  1.36913597, ..., -0.14432615,\n",
              "         -0.3535887 , -0.07673373],\n",
              "        [-0.30556023,  0.04669418, -0.30234292, ..., -0.14432615,\n",
              "         -0.3535887 , -0.07673187],\n",
              "        ...,\n",
              "        [ 1.36957576,  0.04669418,  1.36913597, ..., -0.14432615,\n",
              "         -0.3535887 , -0.07673311],\n",
              "        [-0.85273056,  0.04669418, -0.85746912, ..., -0.14432615,\n",
              "          0.12974617, -0.07655998],\n",
              "        [ 0.        ,  0.        ,  0.        , ...,  0.        ,\n",
              "          0.        ,  0.        ]],\n",
              "\n",
              "       [[ 1.31760987,  0.04669418,  1.31728353, ..., -0.14432615,\n",
              "         -0.7157038 , -0.07676093],\n",
              "        [-0.84967374,  0.04669418, -0.84526855, ..., -0.14432615,\n",
              "         -0.7157038 , -0.07676093],\n",
              "        [ 1.31760987,  0.04669418,  1.31728353, ..., -0.14432615,\n",
              "         -0.7157038 , -0.07676093],\n",
              "        ...,\n",
              "        [ 1.31760987,  0.04669418,  1.31728353, ..., -0.14432615,\n",
              "         -0.7157038 , -0.07676093],\n",
              "        [-0.62041243,  0.04669418, -0.61650775, ..., -0.14432615,\n",
              "         -0.7157038 , -0.07676093],\n",
              "        [ 0.        ,  0.        ,  0.        , ...,  0.        ,\n",
              "          0.        ,  0.        ]],\n",
              "\n",
              "       [[ 1.36957576,  0.04669418,  1.36913597, ..., -0.14432615,\n",
              "         -0.3535887 , -0.07650681],\n",
              "        [ 1.36957576,  0.04669418,  1.36913597, ..., -0.14432615,\n",
              "         -0.3535887 , -0.07673352],\n",
              "        [ 1.36957576,  0.04669418,  1.36913597, ..., -0.14432615,\n",
              "         -0.3535887 , -0.07653484],\n",
              "        ...,\n",
              "        [ 1.36957576,  0.04669418,  1.36913597, ..., -0.14432615,\n",
              "         -0.3535887 , -0.07650743],\n",
              "        [ 1.36957576,  0.04669418,  1.36913597, ..., -0.14432615,\n",
              "         -0.3535887 , -0.07673352],\n",
              "        [ 0.        ,  0.        ,  0.        , ...,  0.        ,\n",
              "          0.        ,  0.        ]]])"
            ]
          },
          "metadata": {
            "tags": []
          },
          "execution_count": 231
        }
      ]
    },
    {
      "cell_type": "code",
      "metadata": {
        "id": "SCkiZks-obQW"
      },
      "source": [
        "Y_train = np.asarray(Y_train).astype(np.float32)\r\n",
        "Y_test = np.asarray(Y_test).astype(np.float32)"
      ],
      "execution_count": 232,
      "outputs": []
    },
    {
      "cell_type": "code",
      "metadata": {
        "colab": {
          "base_uri": "https://localhost:8080/"
        },
        "id": "viCi6nhWiZKH",
        "outputId": "4baca6c0-e463-4e50-eecf-f0d6afc8a5b7"
      },
      "source": [
        "history = model.fit(X_train, Y_train, epochs = 40,validation_split=0.2, verbose = 1)"
      ],
      "execution_count": 233,
      "outputs": [
        {
          "output_type": "stream",
          "text": [
            "Epoch 1/40\n",
            "4000/4000 [==============================] - 112s 27ms/step - loss: 0.4712 - accuracy: 0.8912 - val_loss: 0.2311 - val_accuracy: 0.9317\n",
            "Epoch 2/40\n",
            "4000/4000 [==============================] - 104s 26ms/step - loss: 0.2248 - accuracy: 0.9363 - val_loss: 0.1999 - val_accuracy: 0.9425\n",
            "Epoch 3/40\n",
            "4000/4000 [==============================] - 104s 26ms/step - loss: 0.2124 - accuracy: 0.9403 - val_loss: 0.1976 - val_accuracy: 0.9465\n",
            "Epoch 4/40\n",
            "4000/4000 [==============================] - 105s 26ms/step - loss: 0.1992 - accuracy: 0.9443 - val_loss: 0.1982 - val_accuracy: 0.9456\n",
            "Epoch 5/40\n",
            "4000/4000 [==============================] - 105s 26ms/step - loss: 0.1936 - accuracy: 0.9455 - val_loss: 0.1825 - val_accuracy: 0.9480\n",
            "Epoch 6/40\n",
            "4000/4000 [==============================] - 107s 27ms/step - loss: 0.1909 - accuracy: 0.9462 - val_loss: 0.2080 - val_accuracy: 0.9394\n",
            "Epoch 7/40\n",
            "4000/4000 [==============================] - 107s 27ms/step - loss: 0.1857 - accuracy: 0.9476 - val_loss: 0.1752 - val_accuracy: 0.9512\n",
            "Epoch 8/40\n",
            "4000/4000 [==============================] - 106s 26ms/step - loss: 0.1828 - accuracy: 0.9494 - val_loss: 0.1735 - val_accuracy: 0.9496\n",
            "Epoch 9/40\n",
            "4000/4000 [==============================] - 107s 27ms/step - loss: 0.1755 - accuracy: 0.9517 - val_loss: 0.1661 - val_accuracy: 0.9535\n",
            "Epoch 10/40\n",
            "4000/4000 [==============================] - 107s 27ms/step - loss: 0.1697 - accuracy: 0.9538 - val_loss: 0.1698 - val_accuracy: 0.9527\n",
            "Epoch 11/40\n",
            "4000/4000 [==============================] - 106s 26ms/step - loss: 0.1687 - accuracy: 0.9541 - val_loss: 0.1627 - val_accuracy: 0.9550\n",
            "Epoch 12/40\n",
            "4000/4000 [==============================] - 106s 27ms/step - loss: 0.1658 - accuracy: 0.9550 - val_loss: 0.1803 - val_accuracy: 0.9496\n",
            "Epoch 13/40\n",
            "4000/4000 [==============================] - 107s 27ms/step - loss: 0.1628 - accuracy: 0.9560 - val_loss: 0.1578 - val_accuracy: 0.9568\n",
            "Epoch 14/40\n",
            "4000/4000 [==============================] - 106s 27ms/step - loss: 0.1595 - accuracy: 0.9573 - val_loss: 0.1632 - val_accuracy: 0.9539\n",
            "Epoch 15/40\n",
            "4000/4000 [==============================] - 106s 27ms/step - loss: 0.1582 - accuracy: 0.9576 - val_loss: 0.1551 - val_accuracy: 0.9569\n",
            "Epoch 16/40\n",
            "4000/4000 [==============================] - 107s 27ms/step - loss: 0.1574 - accuracy: 0.9572 - val_loss: 0.1513 - val_accuracy: 0.9593\n",
            "Epoch 17/40\n",
            "4000/4000 [==============================] - 107s 27ms/step - loss: 0.1521 - accuracy: 0.9593 - val_loss: 0.1497 - val_accuracy: 0.9607\n",
            "Epoch 18/40\n",
            "4000/4000 [==============================] - 108s 27ms/step - loss: 0.1566 - accuracy: 0.9578 - val_loss: 0.1540 - val_accuracy: 0.9606\n",
            "Epoch 19/40\n",
            "4000/4000 [==============================] - 107s 27ms/step - loss: 0.1521 - accuracy: 0.9587 - val_loss: 0.1473 - val_accuracy: 0.9599\n",
            "Epoch 20/40\n",
            "4000/4000 [==============================] - 107s 27ms/step - loss: 0.1494 - accuracy: 0.9604 - val_loss: 0.1516 - val_accuracy: 0.9611\n",
            "Epoch 21/40\n",
            "4000/4000 [==============================] - 109s 27ms/step - loss: 0.1466 - accuracy: 0.9606 - val_loss: 0.1447 - val_accuracy: 0.9616\n",
            "Epoch 22/40\n",
            "4000/4000 [==============================] - 108s 27ms/step - loss: 0.1504 - accuracy: 0.9601 - val_loss: 0.1420 - val_accuracy: 0.9634\n",
            "Epoch 23/40\n",
            "4000/4000 [==============================] - 107s 27ms/step - loss: 0.1410 - accuracy: 0.9632 - val_loss: 0.1401 - val_accuracy: 0.9633\n",
            "Epoch 24/40\n",
            "4000/4000 [==============================] - 109s 27ms/step - loss: 0.1439 - accuracy: 0.9621 - val_loss: 0.1398 - val_accuracy: 0.9630\n",
            "Epoch 25/40\n",
            "4000/4000 [==============================] - 108s 27ms/step - loss: 0.1429 - accuracy: 0.9628 - val_loss: 0.1454 - val_accuracy: 0.9636\n",
            "Epoch 26/40\n",
            "4000/4000 [==============================] - 108s 27ms/step - loss: 0.1431 - accuracy: 0.9629 - val_loss: 0.1346 - val_accuracy: 0.9653\n",
            "Epoch 27/40\n",
            "4000/4000 [==============================] - 108s 27ms/step - loss: 0.1375 - accuracy: 0.9644 - val_loss: 0.1428 - val_accuracy: 0.9600\n",
            "Epoch 28/40\n",
            "4000/4000 [==============================] - 108s 27ms/step - loss: 0.1384 - accuracy: 0.9643 - val_loss: 0.1342 - val_accuracy: 0.9650\n",
            "Epoch 29/40\n",
            "4000/4000 [==============================] - 108s 27ms/step - loss: 0.1370 - accuracy: 0.9645 - val_loss: 0.1488 - val_accuracy: 0.9617\n",
            "Epoch 30/40\n",
            "4000/4000 [==============================] - 108s 27ms/step - loss: 0.1375 - accuracy: 0.9648 - val_loss: 0.1392 - val_accuracy: 0.9626\n",
            "Epoch 31/40\n",
            "4000/4000 [==============================] - 108s 27ms/step - loss: 0.1379 - accuracy: 0.9643 - val_loss: 0.1318 - val_accuracy: 0.9663\n",
            "Epoch 32/40\n",
            "4000/4000 [==============================] - 108s 27ms/step - loss: 0.1362 - accuracy: 0.9651 - val_loss: 0.1322 - val_accuracy: 0.9654\n",
            "Epoch 33/40\n",
            "4000/4000 [==============================] - 107s 27ms/step - loss: 0.1349 - accuracy: 0.9652 - val_loss: 0.1271 - val_accuracy: 0.9672\n",
            "Epoch 34/40\n",
            "4000/4000 [==============================] - 109s 27ms/step - loss: 0.1363 - accuracy: 0.9648 - val_loss: 0.1318 - val_accuracy: 0.9666\n",
            "Epoch 35/40\n",
            "4000/4000 [==============================] - 108s 27ms/step - loss: 0.1328 - accuracy: 0.9664 - val_loss: 0.1371 - val_accuracy: 0.9651\n",
            "Epoch 36/40\n",
            "4000/4000 [==============================] - 107s 27ms/step - loss: 0.1348 - accuracy: 0.9660 - val_loss: 0.1313 - val_accuracy: 0.9656\n",
            "Epoch 37/40\n",
            "4000/4000 [==============================] - 107s 27ms/step - loss: 0.1324 - accuracy: 0.9665 - val_loss: 0.1476 - val_accuracy: 0.9606\n",
            "Epoch 38/40\n",
            "4000/4000 [==============================] - 107s 27ms/step - loss: 0.1345 - accuracy: 0.9658 - val_loss: 0.1269 - val_accuracy: 0.9663\n",
            "Epoch 39/40\n",
            "4000/4000 [==============================] - 107s 27ms/step - loss: 0.1313 - accuracy: 0.9667 - val_loss: 0.1364 - val_accuracy: 0.9646\n",
            "Epoch 40/40\n",
            "4000/4000 [==============================] - 107s 27ms/step - loss: 0.1301 - accuracy: 0.9673 - val_loss: 0.1274 - val_accuracy: 0.9674\n"
          ],
          "name": "stdout"
        }
      ]
    },
    {
      "cell_type": "code",
      "metadata": {
        "colab": {
          "base_uri": "https://localhost:8080/",
          "height": 301
        },
        "id": "WPXWTkCbw3kT",
        "outputId": "46e71a80-4307-4d2f-bc6e-5d937a54af37"
      },
      "source": [
        "plt.plot(history.history['accuracy'])\r\n",
        "plt.plot(history.history['val_accuracy'])\r\n",
        "plt.title('BRNN Model Accuracy')\r\n",
        "plt.ylabel('Accuracy')\r\n",
        "plt.xlabel('Epoch')\r\n",
        "plt.legend(['Train', 'Test'], loc='lower right')\r\n",
        "plt.savefig('BRNN Model Accuracy.png')\r\n",
        "plt.show()"
      ],
      "execution_count": 234,
      "outputs": [
        {
          "output_type": "display_data",
          "data": {
            "image/png": "[encoded data removed]",
            "text/plain": [
              "<Figure size 432x288 with 1 Axes>"
            ]
          },
          "metadata": {
            "tags": []
          }
        }
      ]
    },
    {
      "cell_type": "code",
      "metadata": {
        "colab": {
          "base_uri": "https://localhost:8080/",
          "height": 301
        },
        "id": "eUd3kcIJ1Z_N",
        "outputId": "c6c81ec7-b287-46d7-f8bf-f40736f4c124"
      },
      "source": [
        "plt.plot(history.history['loss'])\r\n",
        "plt.plot(history.history['val_loss'])\r\n",
        "plt.title('BRNN Model  Loss')\r\n",
        "plt.ylabel('Loss')\r\n",
        "plt.xlabel('Epoch')\r\n",
        "plt.legend(['Train', 'Test'], loc='upper left')\r\n",
        "plt.savefig('BRNN Model Loss.png')\r\n",
        "plt.show()"
      ],
      "execution_count": 235,
      "outputs": [
        {
          "output_type": "display_data",
          "data": {
            "image/png": "[encoded data removed]",
            "text/plain": [
              "<Figure size 432x288 with 1 Axes>"
            ]
          },
          "metadata": {
            "tags": []
          }
        }
      ]
    },
    {
      "cell_type": "code",
      "metadata": {
        "colab": {
          "base_uri": "https://localhost:8080/"
        },
        "id": "Mo1cyL7S1hVF",
        "outputId": "8f07613d-67ad-4b90-f037-1f08b497eb86"
      },
      "source": [
        "predict = model.predict(X_test, verbose=1)"
      ],
      "execution_count": 236,
      "outputs": [
        {
          "output_type": "stream",
          "text": [
            "1250/1250 [==============================] - 10s 7ms/step\n"
          ],
          "name": "stdout"
        }
      ]
    },
    {
      "cell_type": "code",
      "metadata": {
        "id": "eBTyE15U1nGc"
      },
      "source": [
        "tp = 0\r\n",
        "tn = 0\r\n",
        "fp = 0\r\n",
        "fn = 0\r\n",
        "predictn = predict.flatten().round()\r\n",
        "predictn = predictn.tolist()\r\n",
        "Y_testn = Y_test.tolist()\r\n",
        "for i in range(len(Y_testn)):\r\n",
        "  if predictn[i]==1 and Y_testn[i]==1:\r\n",
        "    tp+=1\r\n",
        "  elif predictn[i]==0 and Y_testn[i]==0:\r\n",
        "    tn+=1\r\n",
        "  elif predictn[i]==0 and Y_testn[i]==1:\r\n",
        "    fp+=1\r\n",
        "  elif predictn[i]==1 and Y_testn[i]==0:\r\n",
        "    fn+=1\r\n"
      ],
      "execution_count": 237,
      "outputs": []
    },
    {
      "cell_type": "code",
      "metadata": {
        "id": "uxvcQbPZ1w1x"
      },
      "source": [
        "# to_heat_map =[[tn,fp],[fn,tp]]\r\n",
        "# to_heat_map = pd.DataFrame(to_heat_map, index = [\"Attack\",\"Normal\"],columns = [\"Attack\",\"Normal\"])\r\n",
        "# ax = sns.heatmap(to_heat_map,annot=True, fmt=\"d\")"
      ],
      "execution_count": 240,
      "outputs": []
    },
    {
      "cell_type": "code",
      "metadata": {
        "colab": {
          "base_uri": "https://localhost:8080/"
        },
        "id": "yV0HFt1z2Do6",
        "outputId": "e07cb4af-530f-4637-9ea6-cc363341dd88"
      },
      "source": [
        "scores = model.evaluate(X_test, Y_test, verbose=0)\r\n",
        "print(\"%s: %.2f%%\" % (model.metrics_names[1], scores[1]*100))"
      ],
      "execution_count": 239,
      "outputs": [
        {
          "output_type": "stream",
          "text": [
            "accuracy: 96.60%\n"
          ],
          "name": "stdout"
        }
      ]
    }
  ]
}