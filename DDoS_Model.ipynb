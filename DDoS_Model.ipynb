{
  "nbformat": 4,
  "nbformat_minor": 0,
  "metadata": {
    "colab": {
      "name": "DDoS Model",
      "provenance": []
    },
    "kernelspec": {
      "name": "python3",
      "display_name": "Python 3"
    }
  },
  "cells": [
    {
      "cell_type": "code",
      "metadata": {
        "colab": {
          "base_uri": "https://localhost:8080/"
        },
        "id": "dBmTvOB5KAVJ",
        "outputId": "e513a783-6c33-41ff-b4f7-c848de8bcb65"
      },
      "source": [
        "from google.colab import drive\r\n",
        "drive.mount('/content/drive')"
      ],
      "execution_count": 171,
      "outputs": [
        {
          "output_type": "stream",
          "text": [
            "Drive already mounted at /content/drive; to attempt to forcibly remount, call drive.mount(\"/content/drive\", force_remount=True).\n"
          ],
          "name": "stdout"
        }
      ]
    },
    {
      "cell_type": "code",
      "metadata": {
        "id": "0dbIKSeTK0y_"
      },
      "source": [
        "import numpy as np\r\n",
        "import pandas as pd\r\n",
        "import matplotlib.pyplot as plt\r\n",
        "\r\n",
        "import seaborn as sns; sns.set()"
      ],
      "execution_count": 172,
      "outputs": []
    },
    {
      "cell_type": "code",
      "metadata": {
        "id": "fj5lGBZhLKDc"
      },
      "source": [
        "from keras.models import Sequential, load_model\r\n",
        "from keras.layers import Dense, LSTM, Bidirectional\r\n",
        "from keras.utils import plot_model\r\n",
        "from keras.utils.np_utils import to_categorical\r\n",
        "from keras.utils import np_utils\r\n",
        "\r\n",
        "from sklearn.model_selection import train_test_split\r\n",
        "from sklearn.preprocessing import LabelEncoder, StandardScaler\r\n",
        "from sklearn.metrics import confusion_matrix"
      ],
      "execution_count": 173,
      "outputs": []
    },
    {
      "cell_type": "code",
      "metadata": {
        "id": "QYX2-dXXLsVC"
      },
      "source": [
        "number_of_samples = 50000"
      ],
      "execution_count": 174,
      "outputs": []
    },
    {
      "cell_type": "code",
      "metadata": {
        "id": "U-RGxBb-Nsw3"
      },
      "source": [
        "data_attack = pd.read_csv('/content/drive/MyDrive/Dataset/attack.csv', nrows = number_of_samples)"
      ],
      "execution_count": 175,
      "outputs": []
    },
    {
      "cell_type": "code",
      "metadata": {
        "id": "Fvdow9mNPopb"
      },
      "source": [
        "data_normal = pd.read_csv('/content/drive/MyDrive/Dataset/normal.csv', nrows = number_of_samples)"
      ],
      "execution_count": 176,
      "outputs": []
    },
    {
      "cell_type": "code",
      "metadata": {
        "id": "8HZjZ2tBPw5J"
      },
      "source": [
        "data_normal.columns=[ 'frame.len', 'frame.protocols', 'ip.hdr_len',\r\n",
        "       'ip.len', 'ip.flags.rb', 'ip.flags.df', 'p.flags.mf', 'ip.frag_offset',\r\n",
        "       'ip.ttl', 'ip.proto', 'ip.src', 'ip.dst', 'tcp.srcport', 'tcp.dstport',\r\n",
        "       'tcp.len', 'tcp.ack', 'tcp.flags.res', 'tcp.flags.ns', 'tcp.flags.cwr',\r\n",
        "       'tcp.flags.ecn', 'tcp.flags.urg', 'tcp.flags.ack', 'tcp.flags.push',\r\n",
        "       'tcp.flags.reset', 'tcp.flags.syn', 'tcp.flags.fin', 'tcp.window_size',\r\n",
        "       'tcp.time_delta','class']\r\n",
        "data_attack.columns=[ 'frame.len', 'frame.protocols', 'ip.hdr_len',\r\n",
        "       'ip.len', 'ip.flags.rb', 'ip.flags.df', 'p.flags.mf', 'ip.frag_offset',\r\n",
        "       'ip.ttl', 'ip.proto', 'ip.src', 'ip.dst', 'tcp.srcport', 'tcp.dstport',\r\n",
        "       'tcp.len', 'tcp.ack', 'tcp.flags.res', 'tcp.flags.ns', 'tcp.flags.cwr',\r\n",
        "       'tcp.flags.ecn', 'tcp.flags.urg', 'tcp.flags.ack', 'tcp.flags.push',\r\n",
        "       'tcp.flags.reset', 'tcp.flags.syn', 'tcp.flags.fin', 'tcp.window_size',\r\n",
        "       'tcp.time_delta','class']"
      ],
      "execution_count": 177,
      "outputs": []
    },
    {
      "cell_type": "code",
      "metadata": {
        "id": "q54gNwSkP4tv"
      },
      "source": [
        "data_normal=data_normal.drop(['ip.src', 'ip.dst','frame.protocols'],axis=1)\r\n",
        "data_attack=data_attack.drop(['ip.src', 'ip.dst','frame.protocols'],axis=1)"
      ],
      "execution_count": 178,
      "outputs": []
    },
    {
      "cell_type": "code",
      "metadata": {
        "id": "LNaeaIzYUfWX"
      },
      "source": [
        "features=[ 'frame.len', 'ip.hdr_len',\r\n",
        "       'ip.len', 'ip.flags.rb', 'ip.flags.df', 'p.flags.mf', 'ip.frag_offset',\r\n",
        "       'ip.ttl', 'ip.proto', 'tcp.srcport', 'tcp.dstport',\r\n",
        "       'tcp.len', 'tcp.ack', 'tcp.flags.res', 'tcp.flags.ns', 'tcp.flags.cwr',\r\n",
        "       'tcp.flags.ecn', 'tcp.flags.urg', 'tcp.flags.ack', 'tcp.flags.push',\r\n",
        "       'tcp.flags.reset', 'tcp.flags.syn', 'tcp.flags.fin', 'tcp.window_size',\r\n",
        "       'tcp.time_delta']"
      ],
      "execution_count": 179,
      "outputs": []
    },
    {
      "cell_type": "code",
      "metadata": {
        "id": "lDLTkW5uU1tp"
      },
      "source": [
        "X_normal= data_normal[features].values\r\n",
        "X_attack= data_attack[features].values\r\n",
        "Y_normal= data_normal['class']\r\n",
        "Y_attack= data_attack['class']\r\n",
        "X=np.concatenate((X_normal,X_attack))\r\n",
        "Y=np.concatenate((Y_normal,Y_attack))"
      ],
      "execution_count": 180,
      "outputs": []
    },
    {
      "cell_type": "code",
      "metadata": {
        "id": "wlAySiy1VHUy"
      },
      "source": [
        "scalar = StandardScaler(copy=True, with_mean=True, with_std=True)\r\n",
        "scalar.fit(X)\r\n",
        "X = scalar.transform(X)"
      ],
      "execution_count": 181,
      "outputs": []
    },
    {
      "cell_type": "code",
      "metadata": {
        "id": "PvbUo2y3VNks"
      },
      "source": [
        "for i in range(0,len(Y)):\r\n",
        "  if Y[i] ==\"attack\":\r\n",
        "    Y[i]=0\r\n",
        "  else:\r\n",
        "    Y[i]=1\r\n"
      ],
      "execution_count": 182,
      "outputs": []
    },
    {
      "cell_type": "code",
      "metadata": {
        "id": "j-2heV8xVf0g"
      },
      "source": [
        "features = len(X[0])\r\n",
        "samples = X.shape[0]\r\n",
        "train_len = 25\r\n",
        "input_len = samples - train_len\r\n",
        "I = np.zeros((samples - train_len, train_len, features))\r\n",
        "\r\n",
        "for i in range(input_len):\r\n",
        "    temp = np.zeros((train_len, features))\r\n",
        "    for j in range(i, i + train_len - 1):\r\n",
        "        temp[j-i] = X[j]\r\n",
        "    I[i] = temp"
      ],
      "execution_count": 183,
      "outputs": []
    },
    {
      "cell_type": "code",
      "metadata": {
        "colab": {
          "base_uri": "https://localhost:8080/"
        },
        "id": "CXokG9tzi6RL",
        "outputId": "b1aa1fe5-d02a-4a79-f9a9-9a79640f0dff"
      },
      "source": [
        "\r\n",
        "X.shape"
      ],
      "execution_count": 184,
      "outputs": [
        {
          "output_type": "execute_result",
          "data": {
            "text/plain": [
              "(100000, 25)"
            ]
          },
          "metadata": {
            "tags": []
          },
          "execution_count": 184
        }
      ]
    },
    {
      "cell_type": "code",
      "metadata": {
        "id": "ZBbn15PoeFfb"
      },
      "source": [
        "X_train, X_test, Y_train, Y_test = train_test_split(I, Y[25:100000], test_size = 0.2)"
      ],
      "execution_count": 185,
      "outputs": []
    },
    {
      "cell_type": "code",
      "metadata": {
        "id": "tXqFUOEJg821"
      },
      "source": [
        "def create_baseline():\r\n",
        "    model = Sequential()\r\n",
        "    \r\n",
        "    model.add(Bidirectional(LSTM(64, activation='tanh', kernel_regularizer='l2')))\r\n",
        "    #model.add(LSTM(64, activation='tanh', kernel_regularizer='l2'))\r\n",
        "    model.add(Dense(128, activation = 'relu', kernel_regularizer='l2'))\r\n",
        "    model.add(Dense(1, activation = 'sigmoid', kernel_regularizer='l2'))\r\n",
        "    \r\n",
        "    model.compile(loss = 'binary_crossentropy', optimizer = 'adam', metrics = ['accuracy'])\r\n",
        "    \r\n",
        "    return model"
      ],
      "execution_count": 186,
      "outputs": []
    },
    {
      "cell_type": "code",
      "metadata": {
        "id": "hnl6nzZaiQj4"
      },
      "source": [
        "model = create_baseline()"
      ],
      "execution_count": 187,
      "outputs": []
    },
    {
      "cell_type": "code",
      "metadata": {
        "colab": {
          "base_uri": "https://localhost:8080/"
        },
        "id": "XMELvDm0nMGa",
        "outputId": "3f06296e-92db-4ed6-cbc2-6730732cde59"
      },
      "source": [
        "print(Y_train.dtype)"
      ],
      "execution_count": 188,
      "outputs": [
        {
          "output_type": "stream",
          "text": [
            "object\n"
          ],
          "name": "stdout"
        }
      ]
    },
    {
      "cell_type": "code",
      "metadata": {
        "colab": {
          "base_uri": "https://localhost:8080/"
        },
        "id": "tN-rqm0onvin",
        "outputId": "36f13997-90cf-4a38-a238-e1497a0636f0"
      },
      "source": [
        "Y_train[0:10]"
      ],
      "execution_count": 189,
      "outputs": [
        {
          "output_type": "execute_result",
          "data": {
            "text/plain": [
              "array([1, 0, 0, 0, 1, 0, 1, 0, 0, 0], dtype=object)"
            ]
          },
          "metadata": {
            "tags": []
          },
          "execution_count": 189
        }
      ]
    },
    {
      "cell_type": "code",
      "metadata": {
        "colab": {
          "base_uri": "https://localhost:8080/"
        },
        "id": "qHFV-cd_oWBx",
        "outputId": "dc4a8f8a-0881-4dc8-a9e6-c6fc6f67207d"
      },
      "source": [
        "X_train[0:10]"
      ],
      "execution_count": 190,
      "outputs": [
        {
          "output_type": "execute_result",
          "data": {
            "text/plain": [
              "array([[[ 1.37223278,  0.03422529,  1.37179741, ..., -0.12972475,\n",
              "         -0.29885158, -0.06761984],\n",
              "        [ 1.37223278,  0.03422529,  1.37179741, ..., -0.12972475,\n",
              "         -0.29885158, -0.06795642],\n",
              "        [-0.8596244 ,  0.03422529, -0.86468778, ..., -0.12972475,\n",
              "          0.25252757, -0.06799519],\n",
              "        ...,\n",
              "        [-0.8596244 ,  0.03422529, -0.86468778, ..., -0.12972475,\n",
              "          0.25252757, -0.06799549],\n",
              "        [-0.31010248,  0.03422529, -0.30709832, ..., -0.12972475,\n",
              "         -0.29885158, -0.06795704],\n",
              "        [ 0.        ,  0.        ,  0.        , ...,  0.        ,\n",
              "          0.        ,  0.        ]],\n",
              "\n",
              "       [[ 1.24943459,  0.03422529,  1.24925028, ..., -0.12972475,\n",
              "          2.88556117, -0.06583725],\n",
              "        [ 1.24943459,  0.03422529,  1.24925028, ..., -0.12972475,\n",
              "          2.88556117, -0.06684484],\n",
              "        [ 0.06443201,  0.03422529,  0.06667044, ..., -0.12972475,\n",
              "         -0.71194554, -0.06799734],\n",
              "        ...,\n",
              "        [ 0.06443201,  0.03422529,  0.06667044, ..., -0.12972475,\n",
              "         -0.71194554, -0.06799734],\n",
              "        [ 1.37223278,  0.03422529,  1.37179741, ..., -0.12972475,\n",
              "          2.8737805 , -0.0411708 ],\n",
              "        [ 0.        ,  0.        ,  0.        , ...,  0.        ,\n",
              "          0.        ,  0.        ]],\n",
              "\n",
              "       [[-0.8596244 ,  0.03422529, -0.86468778, ..., -0.12972475,\n",
              "          0.25913355,  0.68667983],\n",
              "        [-0.8596244 ,  0.03422529, -0.86468778, ..., -0.12972475,\n",
              "          0.25252757,  0.6866346 ],\n",
              "        [ 1.21873504,  0.03422529,  1.21861349, ..., -0.12972475,\n",
              "          2.86508263,  0.06710817],\n",
              "        ...,\n",
              "        [-0.82892485,  0.03422529, -0.82485996, ..., -0.12972475,\n",
              "          0.25252757,  0.78769153],\n",
              "        [-0.82892485,  0.03422529, -0.82485996, ..., -0.12972475,\n",
              "         -0.02844679,  0.03373029],\n",
              "        [ 0.        ,  0.        ,  0.        , ...,  0.        ,\n",
              "          0.        ,  0.        ]],\n",
              "\n",
              "       ...,\n",
              "\n",
              "       [[ 1.24943459,  0.03422529,  1.24925028, ..., -0.12972475,\n",
              "          2.88071678, -0.06692022],\n",
              "        [-0.60328317,  0.03422529, -0.5996796 , ..., -0.12972475,\n",
              "          2.88071678, -0.0679755 ],\n",
              "        [-0.8596244 ,  0.03422529, -0.86468778, ..., -0.12972475,\n",
              "          0.19967972, -0.06764568],\n",
              "        ...,\n",
              "        [-0.85655444,  0.03422529, -0.85243307, ..., -0.12972475,\n",
              "         -0.71194554, -0.06799734],\n",
              "        [ 1.21873504,  0.03422529,  1.21861349, ..., -0.12972475,\n",
              "          2.81526253,  0.26366414],\n",
              "        [ 0.        ,  0.        ,  0.        , ...,  0.        ,\n",
              "          0.        ,  0.        ]],\n",
              "\n",
              "       [[ 1.37223278,  0.03422529,  1.37179741, ..., -0.12972475,\n",
              "         -0.29885158, -0.06775398],\n",
              "        [ 1.37223278,  0.03422529,  1.37179741, ..., -0.12972475,\n",
              "         -0.29885158, -0.06786474],\n",
              "        [ 1.37223278,  0.03422529,  1.37179741, ..., -0.12972475,\n",
              "         -0.29885158, -0.06775121],\n",
              "        ...,\n",
              "        [ 1.37223278,  0.03422529,  1.37179741, ..., -0.12972475,\n",
              "         -0.29885158, -0.06795919],\n",
              "        [-0.62630783,  0.03422529, -0.62265719, ..., -0.12972475,\n",
              "         -0.71194554, -0.06799734],\n",
              "        [ 0.        ,  0.        ,  0.        , ...,  0.        ,\n",
              "          0.        ,  0.        ]],\n",
              "\n",
              "       [[-0.8596244 ,  0.03422529, -0.86468778, ..., -0.12972475,\n",
              "          0.23182883, -0.02625938],\n",
              "        [-0.85655444,  0.03422529, -0.85243307, ..., -0.12972475,\n",
              "         -0.71194554, -0.06799734],\n",
              "        [-0.55416389,  0.03422529, -0.55066075, ..., -0.12972475,\n",
              "         -0.71194554, -0.06799734],\n",
              "        ...,\n",
              "        [-0.69538181,  0.03422529, -0.69158995, ..., -0.12972475,\n",
              "         -0.71194554, -0.06799734],\n",
              "        [-0.85655444,  0.03422529, -0.85243307, ..., -0.12972475,\n",
              "         -0.71194554, -0.06799734],\n",
              "        [ 0.        ,  0.        ,  0.        , ...,  0.        ,\n",
              "          0.        ,  0.        ]]])"
            ]
          },
          "metadata": {
            "tags": []
          },
          "execution_count": 190
        }
      ]
    },
    {
      "cell_type": "code",
      "metadata": {
        "id": "SCkiZks-obQW"
      },
      "source": [
        "Y_train = np.asarray(Y_train).astype(np.float32)\r\n",
        "Y_test = np.asarray(Y_test).astype(np.float32)"
      ],
      "execution_count": 191,
      "outputs": []
    },
    {
      "cell_type": "code",
      "metadata": {
        "colab": {
          "base_uri": "https://localhost:8080/"
        },
        "id": "viCi6nhWiZKH",
        "outputId": "8e1ec7a9-1a8a-45af-ad9e-884646263cf4"
      },
      "source": [
        "history = model.fit(X_train, Y_train, epochs = 40,validation_split=0.2, verbose = 1)"
      ],
      "execution_count": 192,
      "outputs": [
        {
          "output_type": "stream",
          "text": [
            "Epoch 1/40\n",
            "2000/2000 [==============================] - 48s 22ms/step - loss: 0.5273 - accuracy: 0.9135 - val_loss: 0.1982 - val_accuracy: 0.9428\n",
            "Epoch 2/40\n",
            "2000/2000 [==============================] - 44s 22ms/step - loss: 0.1809 - accuracy: 0.9530 - val_loss: 0.1534 - val_accuracy: 0.9632\n",
            "Epoch 3/40\n",
            "2000/2000 [==============================] - 44s 22ms/step - loss: 0.1590 - accuracy: 0.9613 - val_loss: 0.1464 - val_accuracy: 0.9641\n",
            "Epoch 4/40\n",
            "2000/2000 [==============================] - 44s 22ms/step - loss: 0.1570 - accuracy: 0.9614 - val_loss: 0.1523 - val_accuracy: 0.9611\n",
            "Epoch 5/40\n",
            "2000/2000 [==============================] - 44s 22ms/step - loss: 0.1390 - accuracy: 0.9666 - val_loss: 0.1495 - val_accuracy: 0.9637\n",
            "Epoch 6/40\n",
            "2000/2000 [==============================] - 43s 22ms/step - loss: 0.1370 - accuracy: 0.9663 - val_loss: 0.1476 - val_accuracy: 0.9549\n",
            "Epoch 7/40\n",
            "2000/2000 [==============================] - 44s 22ms/step - loss: 0.1355 - accuracy: 0.9658 - val_loss: 0.1257 - val_accuracy: 0.9651\n",
            "Epoch 8/40\n",
            "2000/2000 [==============================] - 44s 22ms/step - loss: 0.1334 - accuracy: 0.9670 - val_loss: 0.1401 - val_accuracy: 0.9600\n",
            "Epoch 9/40\n",
            "2000/2000 [==============================] - 44s 22ms/step - loss: 0.1260 - accuracy: 0.9687 - val_loss: 0.1226 - val_accuracy: 0.9669\n",
            "Epoch 10/40\n",
            "2000/2000 [==============================] - 44s 22ms/step - loss: 0.1285 - accuracy: 0.9673 - val_loss: 0.1262 - val_accuracy: 0.9647\n",
            "Epoch 11/40\n",
            "2000/2000 [==============================] - 44s 22ms/step - loss: 0.1227 - accuracy: 0.9692 - val_loss: 0.1442 - val_accuracy: 0.9656\n",
            "Epoch 12/40\n",
            "2000/2000 [==============================] - 44s 22ms/step - loss: 0.1295 - accuracy: 0.9666 - val_loss: 0.1554 - val_accuracy: 0.9607\n",
            "Epoch 13/40\n",
            "2000/2000 [==============================] - 43s 22ms/step - loss: 0.1235 - accuracy: 0.9699 - val_loss: 0.1183 - val_accuracy: 0.9681\n",
            "Epoch 14/40\n",
            "2000/2000 [==============================] - 43s 22ms/step - loss: 0.1182 - accuracy: 0.9722 - val_loss: 0.1383 - val_accuracy: 0.9646\n",
            "Epoch 15/40\n",
            "2000/2000 [==============================] - 44s 22ms/step - loss: 0.1188 - accuracy: 0.9705 - val_loss: 0.1170 - val_accuracy: 0.9684\n",
            "Epoch 16/40\n",
            "2000/2000 [==============================] - 44s 22ms/step - loss: 0.1186 - accuracy: 0.9699 - val_loss: 0.1089 - val_accuracy: 0.9723\n",
            "Epoch 17/40\n",
            "2000/2000 [==============================] - 44s 22ms/step - loss: 0.1134 - accuracy: 0.9715 - val_loss: 0.1121 - val_accuracy: 0.9697\n",
            "Epoch 18/40\n",
            "2000/2000 [==============================] - 44s 22ms/step - loss: 0.1154 - accuracy: 0.9722 - val_loss: 0.1122 - val_accuracy: 0.9696\n",
            "Epoch 19/40\n",
            "2000/2000 [==============================] - 44s 22ms/step - loss: 0.1192 - accuracy: 0.9697 - val_loss: 0.1132 - val_accuracy: 0.9700\n",
            "Epoch 20/40\n",
            "2000/2000 [==============================] - 44s 22ms/step - loss: 0.1109 - accuracy: 0.9730 - val_loss: 0.1126 - val_accuracy: 0.9697\n",
            "Epoch 21/40\n",
            "2000/2000 [==============================] - 44s 22ms/step - loss: 0.1096 - accuracy: 0.9728 - val_loss: 0.1247 - val_accuracy: 0.9634\n",
            "Epoch 22/40\n",
            "2000/2000 [==============================] - 44s 22ms/step - loss: 0.1108 - accuracy: 0.9732 - val_loss: 0.1122 - val_accuracy: 0.9712\n",
            "Epoch 23/40\n",
            "2000/2000 [==============================] - 44s 22ms/step - loss: 0.1090 - accuracy: 0.9730 - val_loss: 0.1077 - val_accuracy: 0.9714\n",
            "Epoch 24/40\n",
            "2000/2000 [==============================] - 44s 22ms/step - loss: 0.1232 - accuracy: 0.9703 - val_loss: 0.1014 - val_accuracy: 0.9762\n",
            "Epoch 25/40\n",
            "2000/2000 [==============================] - 44s 22ms/step - loss: 0.1163 - accuracy: 0.9702 - val_loss: 0.1206 - val_accuracy: 0.9676\n",
            "Epoch 26/40\n",
            "2000/2000 [==============================] - 44s 22ms/step - loss: 0.1125 - accuracy: 0.9728 - val_loss: 0.1055 - val_accuracy: 0.9731\n",
            "Epoch 27/40\n",
            "2000/2000 [==============================] - 44s 22ms/step - loss: 0.1009 - accuracy: 0.9761 - val_loss: 0.1033 - val_accuracy: 0.9716\n",
            "Epoch 28/40\n",
            "2000/2000 [==============================] - 43s 22ms/step - loss: 0.1048 - accuracy: 0.9743 - val_loss: 0.1062 - val_accuracy: 0.9727\n",
            "Epoch 29/40\n",
            "2000/2000 [==============================] - 44s 22ms/step - loss: 0.1067 - accuracy: 0.9738 - val_loss: 0.1046 - val_accuracy: 0.9744\n",
            "Epoch 30/40\n",
            "2000/2000 [==============================] - 44s 22ms/step - loss: 0.1048 - accuracy: 0.9756 - val_loss: 0.1028 - val_accuracy: 0.9749\n",
            "Epoch 31/40\n",
            "2000/2000 [==============================] - 44s 22ms/step - loss: 0.1057 - accuracy: 0.9753 - val_loss: 0.0997 - val_accuracy: 0.9737\n",
            "Epoch 32/40\n",
            "2000/2000 [==============================] - 44s 22ms/step - loss: 0.0992 - accuracy: 0.9764 - val_loss: 0.1059 - val_accuracy: 0.9737\n",
            "Epoch 33/40\n",
            "2000/2000 [==============================] - 44s 22ms/step - loss: 0.1003 - accuracy: 0.9761 - val_loss: 0.1219 - val_accuracy: 0.9711\n",
            "Epoch 34/40\n",
            "2000/2000 [==============================] - 44s 22ms/step - loss: 0.1073 - accuracy: 0.9752 - val_loss: 0.1028 - val_accuracy: 0.9757\n",
            "Epoch 35/40\n",
            "2000/2000 [==============================] - 44s 22ms/step - loss: 0.1080 - accuracy: 0.9735 - val_loss: 0.1017 - val_accuracy: 0.9729\n",
            "Epoch 36/40\n",
            "2000/2000 [==============================] - 44s 22ms/step - loss: 0.1043 - accuracy: 0.9748 - val_loss: 0.0970 - val_accuracy: 0.9796\n",
            "Epoch 37/40\n",
            "2000/2000 [==============================] - 45s 22ms/step - loss: 0.0949 - accuracy: 0.9775 - val_loss: 0.0977 - val_accuracy: 0.9788\n",
            "Epoch 38/40\n",
            "2000/2000 [==============================] - 44s 22ms/step - loss: 0.0991 - accuracy: 0.9775 - val_loss: 0.0995 - val_accuracy: 0.9778\n",
            "Epoch 39/40\n",
            "2000/2000 [==============================] - 45s 22ms/step - loss: 0.0965 - accuracy: 0.9785 - val_loss: 0.0979 - val_accuracy: 0.9776\n",
            "Epoch 40/40\n",
            "2000/2000 [==============================] - 44s 22ms/step - loss: 0.0930 - accuracy: 0.9785 - val_loss: 0.0921 - val_accuracy: 0.9771\n"
          ],
          "name": "stdout"
        }
      ]
    },
    {
      "cell_type": "code",
      "metadata": {
        "colab": {
          "base_uri": "https://localhost:8080/",
          "height": 301
        },
        "id": "WPXWTkCbw3kT",
        "outputId": "b58017a8-105a-4e51-9d09-5685a57f5648"
      },
      "source": [
        "plt.plot(history.history['accuracy'])\r\n",
        "plt.plot(history.history['val_accuracy'])\r\n",
        "plt.title('BRNN Model Accuracy')\r\n",
        "plt.ylabel('Accuracy')\r\n",
        "plt.xlabel('Epoch')\r\n",
        "plt.legend(['Train', 'Test'], loc='lower right')\r\n",
        "plt.savefig('BRNN Model Accuracy.png')\r\n",
        "plt.show()"
      ],
      "execution_count": 193,
      "outputs": [
        {
          "output_type": "display_data",
          "data": {
            "image/png": "[encoded data removed]",
            "text/plain": [
              "<Figure size 432x288 with 1 Axes>"
            ]
          },
          "metadata": {
            "tags": []
          }
        }
      ]
    },
    {
      "cell_type": "code",
      "metadata": {
        "colab": {
          "base_uri": "https://localhost:8080/",
          "height": 301
        },
        "id": "eUd3kcIJ1Z_N",
        "outputId": "76084ced-0726-429c-92c3-cdab4dec118e"
      },
      "source": [
        "plt.plot(history.history['loss'])\r\n",
        "plt.plot(history.history['val_loss'])\r\n",
        "plt.title('BRNN Model  Loss')\r\n",
        "plt.ylabel('Loss')\r\n",
        "plt.xlabel('Epoch')\r\n",
        "plt.legend(['Train', 'Test'], loc='upper left')\r\n",
        "plt.savefig('BRNN Model Loss.png')\r\n",
        "plt.show()"
      ],
      "execution_count": 194,
      "outputs": [
        {
          "output_type": "display_data",
          "data": {
            "image/png": "[encoded data removed]",
            "text/plain": [
              "<Figure size 432x288 with 1 Axes>"
            ]
          },
          "metadata": {
            "tags": []
          }
        }
      ]
    },
    {
      "cell_type": "code",
      "metadata": {
        "colab": {
          "base_uri": "https://localhost:8080/"
        },
        "id": "Mo1cyL7S1hVF",
        "outputId": "e803383c-857b-450c-be32-7bfe2ab13ced"
      },
      "source": [
        "predict = model.predict(X_test, verbose=1)"
      ],
      "execution_count": 195,
      "outputs": [
        {
          "output_type": "stream",
          "text": [
            "625/625 [==============================] - 4s 6ms/step\n"
          ],
          "name": "stdout"
        }
      ]
    },
    {
      "cell_type": "code",
      "metadata": {
        "id": "eBTyE15U1nGc"
      },
      "source": [
        "tp = 0\r\n",
        "tn = 0\r\n",
        "fp = 0\r\n",
        "fn = 0\r\n",
        "predictn = predict.flatten().round()\r\n",
        "predictn = predictn.tolist()\r\n",
        "Y_testn = Y_test.tolist()\r\n",
        "for i in range(len(Y_testn)):\r\n",
        "  if predictn[i]==1 and Y_testn[i]==1:\r\n",
        "    tp+=1\r\n",
        "  elif predictn[i]==0 and Y_testn[i]==0:\r\n",
        "    tn+=1\r\n",
        "  elif predictn[i]==0 and Y_testn[i]==1:\r\n",
        "    fp+=1\r\n",
        "  elif predictn[i]==1 and Y_testn[i]==0:\r\n",
        "    fn+=1\r\n"
      ],
      "execution_count": 196,
      "outputs": []
    },
    {
      "cell_type": "code",
      "metadata": {
        "colab": {
          "base_uri": "https://localhost:8080/",
          "height": 268
        },
        "id": "uxvcQbPZ1w1x",
        "outputId": "8b19e5ba-6059-4908-810a-c7606dd33428"
      },
      "source": [
        "to_heat_map =[[tn,fp],[fn,tp]]\r\n",
        "to_heat_map = pd.DataFrame(to_heat_map, index = [\"Attack\",\"Normal\"],columns = [\"Attack\",\"Normal\"])\r\n",
        "ax = sns.heatmap(to_heat_map,annot=True, fmt=\"d\")"
      ],
      "execution_count": 197,
      "outputs": [
        {
          "output_type": "display_data",
          "data": {
            "image/png": "[encoded data removed]",
            "text/plain": [
              "<Figure size 432x288 with 2 Axes>"
            ]
          },
          "metadata": {
            "tags": []
          }
        }
      ]
    },
    {
      "cell_type": "code",
      "metadata": {
        "colab": {
          "base_uri": "https://localhost:8080/"
        },
        "id": "yV0HFt1z2Do6",
        "outputId": "f9a2af00-a4fe-401a-ac66-4c7d20b35cf2"
      },
      "source": [
        "scores = model.evaluate(X_test, Y_test, verbose=0)\r\n",
        "print(\"%s: %.2f%%\" % (model.metrics_names[1], scores[1]*100))"
      ],
      "execution_count": 200,
      "outputs": [
        {
          "output_type": "stream",
          "text": [
            "accuracy: 97.78%\n"
          ],
          "name": "stdout"
        }
      ]
    }
  ]
}